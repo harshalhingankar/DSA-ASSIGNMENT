{
  "nbformat": 4,
  "nbformat_minor": 0,
  "metadata": {
    "colab": {
      "provenance": [],
      "toc_visible": true
    },
    "kernelspec": {
      "name": "python3",
      "display_name": "Python 3"
    },
    "language_info": {
      "name": "python"
    }
  },
  "cells": [
    {
      "cell_type": "markdown",
      "source": [
        "1. Given an array, check if it contains any duplicates or not"
      ],
      "metadata": {
        "id": "6eOIyrjoVaFi"
      }
    },
    {
      "cell_type": "code",
      "source": [
        "def contains_duplicates(arr):\n",
        "    seen = set()\n",
        "    for num in arr:\n",
        "        if num in seen:\n",
        "            return True\n",
        "        seen.add(num)\n",
        "    return False\n",
        "\n",
        "arr = [1, 2, 4, 2, 5, 9]\n",
        "output = contains_duplicates(arr)\n",
        "print(output)  # Output: True\n"
      ],
      "metadata": {
        "colab": {
          "base_uri": "https://localhost:8080/"
        },
        "id": "HbG7VdDQWTsM",
        "outputId": "38d0273c-7e36-49a6-962d-877ca37a1627"
      },
      "execution_count": null,
      "outputs": [
        {
          "output_type": "stream",
          "name": "stdout",
          "text": [
            "True\n"
          ]
        }
      ]
    },
    {
      "cell_type": "markdown",
      "source": [
        "Given an array and an integer k, rotate the array to the right by k steps."
      ],
      "metadata": {
        "id": "OR0wzXtuWUuE"
      }
    },
    {
      "cell_type": "code",
      "source": [
        "def rotate_array(arr, k):\n",
        "    n = len(arr)\n",
        "    k = k % n\n",
        "    arr[:] = arr[-k:] + arr[:-k]\n",
        "\n",
        "arr = [1, 2, 3, 4, 5, 6, 7]\n",
        "k = 3\n",
        "rotate_array(arr, k)\n",
        "print(arr)  # Output: [5, 6, 7, 1, 2, 3, 4]\n"
      ],
      "metadata": {
        "colab": {
          "base_uri": "https://localhost:8080/"
        },
        "id": "i6E3JREzWe--",
        "outputId": "40431134-4cdb-4ca6-9d04-e11cd19a09e5"
      },
      "execution_count": null,
      "outputs": [
        {
          "output_type": "stream",
          "name": "stdout",
          "text": [
            "[5, 6, 7, 1, 2, 3, 4]\n"
          ]
        }
      ]
    },
    {
      "cell_type": "markdown",
      "source": [
        " Reverse the given array in-place, means without using any extra data structure."
      ],
      "metadata": {
        "id": "-t4Y-tabWgvT"
      }
    },
    {
      "cell_type": "code",
      "source": [
        "def reverse_array(arr):\n",
        "    start, end = 0, len(arr) - 1\n",
        "    while start < end:\n",
        "        arr[start], arr[end] = arr[end], arr[start]\n",
        "        start += 1\n",
        "        end -= 1\n",
        "\n",
        "arr = [2, 4, 5, 7, 9, 12]\n",
        "reverse_array(arr)\n",
        "print(arr)  # Output: [12, 9, 7, 5, 4, 2]\n"
      ],
      "metadata": {
        "colab": {
          "base_uri": "https://localhost:8080/"
        },
        "id": "8yHD4C-8WkOq",
        "outputId": "a970f0c3-6170-4efb-a78c-ca5d7437dd0f"
      },
      "execution_count": null,
      "outputs": [
        {
          "output_type": "stream",
          "name": "stdout",
          "text": [
            "[12, 9, 7, 5, 4, 2]\n"
          ]
        }
      ]
    },
    {
      "cell_type": "markdown",
      "source": [
        "Given an array of integers, find the maximum element in an array"
      ],
      "metadata": {
        "id": "6bY3R3GdWl7l"
      }
    },
    {
      "cell_type": "code",
      "source": [
        "def find_max_element(arr):\n",
        "    return max(arr)\n",
        "\n",
        "arr = [10, 5, 20, 8, 15]\n",
        "output = find_max_element(arr)\n",
        "print(output)  # Output: 20\n"
      ],
      "metadata": {
        "colab": {
          "base_uri": "https://localhost:8080/"
        },
        "id": "oTMkjCMKWomX",
        "outputId": "5a5ee6f7-efc1-41af-ff8d-15f46d674f99"
      },
      "execution_count": null,
      "outputs": [
        {
          "output_type": "stream",
          "name": "stdout",
          "text": [
            "20\n"
          ]
        }
      ]
    },
    {
      "cell_type": "markdown",
      "source": [
        "Given a sorted array, remove the duplicate element without using any extra data structure."
      ],
      "metadata": {
        "id": "nmYq_PACWsXa"
      }
    },
    {
      "cell_type": "code",
      "source": [
        "def remove_duplicates(arr):\n",
        "    if not arr:\n",
        "        return []\n",
        "\n",
        "    index = 0\n",
        "    for i in range(1, len(arr)):\n",
        "        if arr[i] != arr[index]:\n",
        "            index += 1\n",
        "            arr[index] = arr[i]\n",
        "\n",
        "    return arr[:index + 1]\n",
        "\n",
        "arr = [1, 1, 2, 2, 2, 3, 3, 4, 4, 4, 5, 5]\n",
        "output = remove_duplicates(arr)\n",
        "print(output)  # Output: [1, 2, 3, 4, 5]\n"
      ],
      "metadata": {
        "colab": {
          "base_uri": "https://localhost:8080/"
        },
        "id": "wyBEz7FlWwFU",
        "outputId": "45fdec97-6317-45a4-f1dd-a284882c7d5c"
      },
      "execution_count": null,
      "outputs": [
        {
          "output_type": "stream",
          "name": "stdout",
          "text": [
            "[1, 2, 3, 4, 5]\n"
          ]
        }
      ]
    },
    {
      "cell_type": "code",
      "source": [],
      "metadata": {
        "id": "MlQ3BGZCWx7M"
      },
      "execution_count": null,
      "outputs": []
    }
  ]
}