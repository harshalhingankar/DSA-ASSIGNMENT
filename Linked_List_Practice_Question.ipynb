{
  "nbformat": 4,
  "nbformat_minor": 0,
  "metadata": {
    "colab": {
      "provenance": [],
      "authorship_tag": "ABX9TyPJ9ZCgpx3nUmPIujJt923l",
      "include_colab_link": true
    },
    "kernelspec": {
      "name": "python3",
      "display_name": "Python 3"
    },
    "language_info": {
      "name": "python"
    }
  },
  "cells": [
    {
      "cell_type": "markdown",
      "metadata": {
        "id": "view-in-github",
        "colab_type": "text"
      },
      "source": [
        "<a href=\"https://colab.research.google.com/github/harshalhingankar/DSA-ASSIGNMENT/blob/main/Linked_List_Practice_Question.ipynb\" target=\"_parent\"><img src=\"https://colab.research.google.com/assets/colab-badge.svg\" alt=\"Open In Colab\"/></a>"
      ]
    },
    {
      "cell_type": "code",
      "execution_count": 1,
      "metadata": {
        "colab": {
          "base_uri": "https://localhost:8080/"
        },
        "id": "NMzhgZQ3jnvQ",
        "outputId": "e07b9c6e-e8ae-4430-9f0c-6d8a75569114"
      },
      "outputs": [
        {
          "output_type": "stream",
          "name": "stdout",
          "text": [
            "Forward:\n",
            "0 1 2 3 \n",
            "Backward:\n",
            "3 2 1 0 \n"
          ]
        }
      ],
      "source": [
        "# Define doubly linked list\n",
        "\n",
        "# DoublyLinkedList class represents the doubly linked list itself. It has methods to append and prepend nodes, as well as to print the list in forward and backward directions.\n",
        "class ListNode:\n",
        "    def __init__(self, val=0):\n",
        "        self.val = val\n",
        "        self.prev = None\n",
        "        self.next = None\n",
        "\n",
        "class DoublyLinkedList:\n",
        "    def __init__(self):\n",
        "        self.head = None\n",
        "        self.tail = None\n",
        "\n",
        "    def append(self, val):\n",
        "        new_node = ListNode(val)\n",
        "        if not self.head:\n",
        "            self.head = new_node\n",
        "            self.tail = new_node\n",
        "        else:\n",
        "            self.tail.next = new_node\n",
        "            new_node.prev = self.tail\n",
        "            self.tail = new_node\n",
        "\n",
        "    def prepend(self, val):\n",
        "        new_node = ListNode(val)\n",
        "        if not self.head:\n",
        "            self.head = new_node\n",
        "            self.tail = new_node\n",
        "        else:\n",
        "            new_node.next = self.head\n",
        "            self.head.prev = new_node\n",
        "            self.head = new_node\n",
        "\n",
        "    def print_forward(self):\n",
        "        current = self.head\n",
        "        while current:\n",
        "            print(current.val, end=\" \")\n",
        "            current = current.next\n",
        "        print()\n",
        "\n",
        "    def print_backward(self):\n",
        "        current = self.tail\n",
        "        while current:\n",
        "            print(current.val, end=\" \")\n",
        "            current = current.prev\n",
        "        print()\n",
        "\n",
        "dll = DoublyLinkedList()\n",
        "dll.append(1)\n",
        "dll.append(2)\n",
        "dll.append(3)\n",
        "dll.prepend(0)\n",
        "\n",
        "print(\"Forward:\")\n",
        "dll.print_forward()\n",
        "\n",
        "print(\"Backward:\")\n",
        "dll.print_backward()\n"
      ]
    },
    {
      "cell_type": "code",
      "source": [
        "# )\u0010 Write a fu\u0011ctio\u0011 to reverse a li\u0011ked list i\u0011-place\n",
        "\n",
        "class ListNode:\n",
        "    def __init__(self, val=0, next=None):\n",
        "        self.val = val\n",
        "        self.next = next\n",
        "\n",
        "def reverse_linked_list(head):\n",
        "    prev = None\n",
        "    current = head\n",
        "\n",
        "    while current is not None:\n",
        "        next_node = current.next\n",
        "        current.next = prev\n",
        "        prev = current\n",
        "        current = next_node\n",
        "\n",
        "    return prev\n",
        "\n",
        "\n",
        "head = ListNode(1)\n",
        "head.next = ListNode(2)\n",
        "head.next.next = ListNode(3)\n",
        "head.next.next.next = ListNode(4)\n",
        "\n",
        "\n",
        "head = reverse_linked_list(head)\n",
        "\n",
        "while head is not None:\n",
        "    print(head.val, end=\" -> \")\n",
        "    head = head.next\n"
      ],
      "metadata": {
        "colab": {
          "base_uri": "https://localhost:8080/"
        },
        "id": "tRoKYuPxkq9s",
        "outputId": "e2769b98-320b-41e4-b6cd-b7075f679182"
      },
      "execution_count": 2,
      "outputs": [
        {
          "output_type": "stream",
          "name": "stdout",
          "text": [
            "4 -> 3 -> 2 -> 1 -> "
          ]
        }
      ]
    },
    {
      "cell_type": "code",
      "source": [
        "# Detect cycle in linked list\n",
        "\n",
        "class ListNode:\n",
        "    def __init__(self, val=0):\n",
        "        self.val = val\n",
        "        self.next = None\n",
        "\n",
        "def has_cycle(head):\n",
        "    if not head or not head.next:\n",
        "        return False\n",
        "\n",
        "    slow = head\n",
        "    fast = head.next\n",
        "\n",
        "    while fast and fast.next:\n",
        "        if slow == fast:\n",
        "            return True\n",
        "        slow = slow.next\n",
        "        fast = fast.next.next\n",
        "\n",
        "    return False\n",
        "\n",
        "head = ListNode(1)\n",
        "head.next = ListNode(2)\n",
        "head.next.next = ListNode(3)\n",
        "head.next.next.next = ListNode(4)\n",
        "head.next.next.next.next = ListNode(5)\n",
        "head.next.next.next.next.next = head.next\n",
        "print(\"Does the linked list have a cycle?\", has_cycle(head))\n"
      ],
      "metadata": {
        "colab": {
          "base_uri": "https://localhost:8080/"
        },
        "id": "T30BxiMmk76W",
        "outputId": "2eecafc7-b547-4c9c-cc86-3d055b794182"
      },
      "execution_count": 3,
      "outputs": [
        {
          "output_type": "stream",
          "name": "stdout",
          "text": [
            "Does the linked list have a cycle? True\n"
          ]
        }
      ]
    },
    {
      "cell_type": "code",
      "source": [
        "# Merge two sorted linked list into one\n",
        "\n",
        "# 1->3->5->6->null and 2->4->6->8->null should be merged to make\n",
        "\n",
        "# 1->2->3->4->5->6->7->8\n",
        "\n",
        "class ListNode:\n",
        "    def __init__(self, val=0):\n",
        "        self.val = val\n",
        "        self.next = None\n",
        "\n",
        "def merge_sorted_lists(l1, l2):\n",
        "    dummy = ListNode()\n",
        "    current = dummy\n",
        "\n",
        "\n",
        "    while l1 and l2:\n",
        "        if l1.val < l2.val:\n",
        "            current.next = l1\n",
        "            l1 = l1.next\n",
        "        else:\n",
        "            current.next = l2\n",
        "            l2 = l2.next\n",
        "        current = current.next\n",
        "\n",
        "\n",
        "    if l1:\n",
        "        current.next = l1\n",
        "    if l2:\n",
        "        current.next = l2\n",
        "\n",
        "\n",
        "    return dummy.next\n",
        "\n",
        "def print_linked_list(head):\n",
        "    current = head\n",
        "    while current:\n",
        "        print(current.val, end=\" -> \")\n",
        "        current = current.next\n",
        "    print(\"null\")\n",
        "\n",
        "l1 = ListNode(1)\n",
        "l1.next = ListNode(3)\n",
        "l1.next.next = ListNode(5)\n",
        "l1.next.next.next = ListNode(6)\n",
        "\n",
        "l2 = ListNode(2)\n",
        "l2.next = ListNode(4)\n",
        "l2.next.next = ListNode(6)\n",
        "l2.next.next.next = ListNode(8)\n",
        "\n",
        "\n",
        "merged_list = merge_sorted_lists(l1, l2)\n",
        "\n",
        "print_linked_list(merged_list)\n"
      ],
      "metadata": {
        "colab": {
          "base_uri": "https://localhost:8080/"
        },
        "id": "nwQOiq1FlOOn",
        "outputId": "05b2f2d0-ee19-492b-ed7e-7b8204237c09"
      },
      "execution_count": 4,
      "outputs": [
        {
          "output_type": "stream",
          "name": "stdout",
          "text": [
            "1 -> 2 -> 3 -> 4 -> 5 -> 6 -> 6 -> 8 -> null\n"
          ]
        }
      ]
    },
    {
      "cell_type": "code",
      "source": [
        "# Write a function to remove nth node from the end in a linked list\n",
        "\n",
        "# 1->2->3->4->5->6, removing 2nd node from end will return 1->2->3->4->6\n",
        "\n",
        "class ListNode:\n",
        "    def __init__(self, val=0):\n",
        "        self.val = val\n",
        "        self.next = None\n",
        "\n",
        "def remove_nth_from_end(head, n):\n",
        "\n",
        "    dummy = ListNode()\n",
        "    dummy.next = head\n",
        "\n",
        "    slow = dummy\n",
        "    fast = dummy\n",
        "\n",
        "    for _ in range(n + 1):\n",
        "        if not fast:\n",
        "            return head\n",
        "        fast = fast.next\n",
        "\n",
        "\n",
        "    while fast:\n",
        "        slow = slow.next\n",
        "        fast = fast.next\n",
        "\n",
        "    slow.next = slow.next.next\n",
        "\n",
        "    return dummy.next\n",
        "\n",
        "def print_linked_list(head):\n",
        "    current = head\n",
        "    while current:\n",
        "        print(current.val, end=\" -> \")\n",
        "        current = current.next\n",
        "    print(\"null\")\n",
        "\n",
        "\n",
        "head = ListNode(1)\n",
        "head.next = ListNode(2)\n",
        "head.next.next = ListNode(3)\n",
        "head.next.next.next = ListNode(4)\n",
        "head.next.next.next.next = ListNode(5)\n",
        "head.next.next.next.next.next = ListNode(6)\n",
        "\n",
        "\n",
        "new_head = remove_nth_from_end(head, 2)\n",
        "\n",
        "print_linked_list(new_head)\n"
      ],
      "metadata": {
        "colab": {
          "base_uri": "https://localhost:8080/"
        },
        "id": "BqVVT3ZXlmrM",
        "outputId": "37583cba-5c41-4de2-f178-584fc8a030d3"
      },
      "execution_count": 5,
      "outputs": [
        {
          "output_type": "stream",
          "name": "stdout",
          "text": [
            "1 -> 2 -> 3 -> 4 -> 6 -> null\n"
          ]
        }
      ]
    },
    {
      "cell_type": "code",
      "source": [
        "# Remove duplicates from a sorted linked list\n",
        "\n",
        "# 1->2->3->3->4->4->4->5  should be changed to 1->2->3->4->5\n",
        "\n",
        "class ListNode:\n",
        "    def __init__(self, val=0):\n",
        "        self.val = val\n",
        "        self.next = None\n",
        "\n",
        "def remove_duplicates(head):\n",
        "    current = head\n",
        "\n",
        "    while current and current.next:\n",
        "        if current.val == current.next.val:\n",
        "            current.next = current.next.next\n",
        "        else:\n",
        "            current = current.next\n",
        "\n",
        "    return head\n",
        "\n",
        "def print_linked_list(head):\n",
        "    current = head\n",
        "    while current:\n",
        "        print(current.val, end=\" -> \")\n",
        "        current = current.next\n",
        "    print(\"null\")\n",
        "\n",
        "head = ListNode(1)\n",
        "head.next = ListNode(2)\n",
        "head.next.next = ListNode(3)\n",
        "head.next.next.next = ListNode(3)\n",
        "head.next.next.next.next = ListNode(4)\n",
        "head.next.next.next.next.next = ListNode(4)\n",
        "head.next.next.next.next.next.next = ListNode(4)\n",
        "head.next.next.next.next.next.next.next = ListNode(5)\n",
        "\n",
        "\n",
        "new_head = remove_duplicates(head)\n",
        "\n",
        "\n",
        "print_linked_list(new_head)\n",
        "\n"
      ],
      "metadata": {
        "colab": {
          "base_uri": "https://localhost:8080/"
        },
        "id": "cTPMYk3XmCtY",
        "outputId": "05d2c9d6-dd33-4644-a3fd-2624e74bf574"
      },
      "execution_count": 6,
      "outputs": [
        {
          "output_type": "stream",
          "name": "stdout",
          "text": [
            "1 -> 2 -> 3 -> 4 -> 5 -> null\n"
          ]
        }
      ]
    },
    {
      "cell_type": "code",
      "source": [
        "# Find the intersection of the two linked lists\n",
        "# 1->2->3->4->8->6->9  5->1->6->7  , intersection 1->6\n",
        "\n",
        "class ListNode:\n",
        "    def __init__(self, val=0):\n",
        "        self.val = val\n",
        "        self.next = None\n",
        "\n",
        "def get_intersection_node(headA, headB):\n",
        "    def get_length(head):\n",
        "        length = 0\n",
        "        current = head\n",
        "        while current:\n",
        "            length += 1\n",
        "            current = current.next\n",
        "        return length\n",
        "\n",
        "    def move_forward(head, steps):\n",
        "        for _ in range(steps):\n",
        "            head = head.next\n",
        "        return head\n",
        "\n",
        "    lengthA, lengthB = get_length(headA), get_length(headB)\n",
        "    tailA, tailB = move_forward(headA, lengthA - 1), move_forward(headB, lengthB - 1)\n",
        "\n",
        "\n",
        "    if tailA != tailB:\n",
        "        return None\n",
        "\n",
        "    if lengthA > lengthB:\n",
        "        headA = move_forward(headA, lengthA - lengthB)\n",
        "    else:\n",
        "        headB = move_forward(headB, lengthB - lengthA)\n",
        "\n",
        "\n",
        "    while headA != headB:\n",
        "        headA = headA.next\n",
        "        headB = headB.next\n",
        "\n",
        "    return headA\n",
        "\n",
        "headA = ListNode(1)\n",
        "headA.next = ListNode(2)\n",
        "headA.next.next = ListNode(3)\n",
        "headA.next.next.next = ListNode(4)\n",
        "intersection_node = headA.next.next.next.next = ListNode(8)\n",
        "headA.next.next.next.next.next = ListNode(6)\n",
        "headA.next.next.next.next.next.next = ListNode(9)\n",
        "\n",
        "headB = ListNode(5)\n",
        "headB.next = intersection_node\n",
        "intersection = get_intersection_node(headA, headB)\n",
        "if intersection:\n",
        "    print(\"Intersection node value:\", intersection.val)\n",
        "else:\n",
        "    print(\"No intersection\")\n"
      ],
      "metadata": {
        "colab": {
          "base_uri": "https://localhost:8080/"
        },
        "id": "hRG7UR3DmSSt",
        "outputId": "2d1dd4b0-1d9d-496a-ea70-2a6c11da4635"
      },
      "execution_count": 7,
      "outputs": [
        {
          "output_type": "stream",
          "name": "stdout",
          "text": [
            "Intersection node value: 8\n"
          ]
        }
      ]
    },
    {
      "cell_type": "code",
      "source": [
        "# Rotate a linked list by k positions to the right\n",
        "\n",
        "#  1->2->3->4->8->6->9 , after rotating for 2 times Cecomes , 3->4->8->6->9->1->2\n",
        "class ListNode:\n",
        "    def __init__(self, val=0):\n",
        "        self.val = val\n",
        "        self.next = None\n",
        "\n",
        "def rotate_right(head, k):\n",
        "    if not head or k == 0:\n",
        "        return head\n",
        "\n",
        "    length = 1\n",
        "    tail = head\n",
        "    while tail.next:\n",
        "        tail = tail.next\n",
        "        length += 1\n",
        "\n",
        "\n",
        "    k %= length\n",
        "    if k == 0:\n",
        "        return head\n",
        "\n",
        "\n",
        "    prev = head\n",
        "    for _ in range(length - k - 1):\n",
        "        prev = prev.next\n",
        "\n",
        "\n",
        "    new_head = prev.next\n",
        "    tail.next = head\n",
        "    prev.next = None\n",
        "\n",
        "    return new_head\n",
        "\n",
        "def print_linked_list(head):\n",
        "    current = head\n",
        "    while current:\n",
        "        print(current.val, end=\" -> \")\n",
        "        current = current.next\n",
        "    print(\"null\")\n",
        "\n",
        "\n",
        "head = ListNode(1)\n",
        "head.next = ListNode(2)\n",
        "head.next.next = ListNode(3)\n",
        "head.next.next.next = ListNode(4)\n",
        "head.next.next.next.next = ListNode(8)\n",
        "head.next.next.next.next.next = ListNode(6)\n",
        "head.next.next.next.next.next.next = ListNode(9)\n",
        "\n",
        "\n",
        "new_head = rotate_right(head, 2)\n",
        "\n",
        "print_linked_list(new_head)\n"
      ],
      "metadata": {
        "colab": {
          "base_uri": "https://localhost:8080/"
        },
        "id": "r-cLBUZemjm7",
        "outputId": "767be843-ba3f-4900-ffca-a4ae08a4f744"
      },
      "execution_count": 8,
      "outputs": [
        {
          "output_type": "stream",
          "name": "stdout",
          "text": [
            "6 -> 9 -> 1 -> 2 -> 3 -> 4 -> 8 -> null\n"
          ]
        }
      ]
    },
    {
      "cell_type": "code",
      "source": [
        "# Add Two Numbers Represented by LinkedLists:\n",
        "# Given two non-empty linked lists representing two non-negative integers, where the digits are stored in\n",
        "# # reverse order, add the two numCers and return it as a linked list.\n",
        "\n",
        "class ListNode:\n",
        "    def __init__(self, val=0):\n",
        "        self.val = val\n",
        "        self.next = None\n",
        "\n",
        "def add_two_numbers(l1, l2):\n",
        "    dummy = ListNode()\n",
        "    current = dummy\n",
        "    carry = 0\n",
        "\n",
        "    while l1 or l2 or carry:\n",
        "\n",
        "        sum_val = carry\n",
        "        if l1:\n",
        "            sum_val += l1.val\n",
        "            l1 = l1.next\n",
        "        if l2:\n",
        "            sum_val += l2.val\n",
        "            l2 = l2.next\n",
        "\n",
        "\n",
        "        carry = sum_val // 10\n",
        "        current.next = ListNode(sum_val % 10)\n",
        "        current = current.next\n",
        "\n",
        "    return dummy.next\n",
        "\n",
        "def print_linked_list(head):\n",
        "    current = head\n",
        "    while current:\n",
        "        print(current.val, end=\" -> \")\n",
        "        current = current.next\n",
        "    print(\"null\")\n",
        "\n",
        "\n",
        "l1 = ListNode(2)\n",
        "l1.next = ListNode(4)\n",
        "l1.next.next = ListNode(3)\n",
        "\n",
        "l2 = ListNode(5)\n",
        "l2.next = ListNode(6)\n",
        "l2.next.next = ListNode(4)\n",
        "\n",
        "result = add_two_numbers(l1, l2)\n",
        "\n",
        "\n",
        "print_linked_list(result)\n"
      ],
      "metadata": {
        "colab": {
          "base_uri": "https://localhost:8080/"
        },
        "id": "3n8DKA_dm1G-",
        "outputId": "9d9a58ec-38e9-4b8b-c1da-49c304fb30a5"
      },
      "execution_count": 9,
      "outputs": [
        {
          "output_type": "stream",
          "name": "stdout",
          "text": [
            "7 -> 0 -> 8 -> null\n"
          ]
        }
      ]
    },
    {
      "cell_type": "code",
      "source": [],
      "metadata": {
        "id": "2s5brRJsnIEq"
      },
      "execution_count": null,
      "outputs": []
    }
  ]
}