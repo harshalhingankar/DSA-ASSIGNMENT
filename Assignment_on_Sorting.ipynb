{
  "nbformat": 4,
  "nbformat_minor": 0,
  "metadata": {
    "colab": {
      "provenance": [],
      "authorship_tag": "ABX9TyNMWNr3c3BYjiMwdDk5NYSE",
      "include_colab_link": true
    },
    "kernelspec": {
      "name": "python3",
      "display_name": "Python 3"
    },
    "language_info": {
      "name": "python"
    }
  },
  "cells": [
    {
      "cell_type": "markdown",
      "metadata": {
        "id": "view-in-github",
        "colab_type": "text"
      },
      "source": [
        "<a href=\"https://colab.research.google.com/github/harshalhingankar/DSA-ASSIGNMENT/blob/main/Assignment_on_Sorting.ipynb\" target=\"_parent\"><img src=\"https://colab.research.google.com/assets/colab-badge.svg\" alt=\"Open In Colab\"/></a>"
      ]
    },
    {
      "cell_type": "markdown",
      "source": [
        "Problem 1.Given an array of n numbers, give an algorithm which gives the element appearing maximum\n",
        "number of times?"
      ],
      "metadata": {
        "id": "y84p987TdtZd"
      }
    },
    {
      "cell_type": "code",
      "source": [
        "def find_most_frequent_element(arr):\n",
        "    counter = {}\n",
        "    max_count = 0\n",
        "    most_frequent_element = None\n",
        "\n",
        "    for num in arr:\n",
        "        counter[num] = counter.get(num, 0) + 1\n",
        "        if counter[num] > max_count:\n",
        "            max_count = counter[num]\n",
        "            most_frequent_element = num\n",
        "\n",
        "    return most_frequent_element\n",
        "\n",
        "\n",
        "arr1 = [1, 2, 2, 3, 3, 3, 4, 4, 4, 4]\n",
        "result1 = find_most_frequent_element(arr1)\n",
        "print(result1)\n"
      ],
      "metadata": {
        "colab": {
          "base_uri": "https://localhost:8080/"
        },
        "id": "WUEwzQS2d0sj",
        "outputId": "ebdb5e51-7db8-412e-9147-d71b3e8e5bae"
      },
      "execution_count": 1,
      "outputs": [
        {
          "output_type": "stream",
          "name": "stdout",
          "text": [
            "4\n"
          ]
        }
      ]
    },
    {
      "cell_type": "markdown",
      "source": [
        "Problem 2 : We are given a list of n-1 integers and these integers are in the range of 1 to n . There are no\n",
        "duplicates in the list. One of the integers is missing in the list. Give an algorithm to find that element Ex:\n",
        "[1,2,4,6,3,7,8] 5 is the missing num."
      ],
      "metadata": {
        "id": "YcRN_Aj6d384"
      }
    },
    {
      "cell_type": "code",
      "source": [
        "def find_missing_element(arr):\n",
        "    n = len(arr) + 1\n",
        "    expected_sum = n * (n + 1) // 2\n",
        "    actual_sum = sum(arr)\n",
        "    return expected_sum - actual_sum\n",
        "\n",
        "\n",
        "arr2 = [1, 2, 4, 6, 3, 7, 8]\n",
        "result2 = find_missing_element(arr2)\n",
        "print(result2)\n"
      ],
      "metadata": {
        "colab": {
          "base_uri": "https://localhost:8080/"
        },
        "id": "paLYbqSKeKRt",
        "outputId": "da4df695-0262-4765-a478-9c9e2ee4eee8"
      },
      "execution_count": 2,
      "outputs": [
        {
          "output_type": "stream",
          "name": "stdout",
          "text": [
            "5\n"
          ]
        }
      ]
    },
    {
      "cell_type": "markdown",
      "source": [
        "Problem 3 : Given an array of n positive numbers. All numbers occurs even number of times except 1 which\n",
        "occurs odd number of times. Find that number in O(n) time and O(1) space. Ex: [1,2,3,2,3,1,3]. 3 is repeats odd\n",
        "times."
      ],
      "metadata": {
        "id": "K5Fj40uEeNEv"
      }
    },
    {
      "cell_type": "code",
      "source": [
        "def find_odd_occurrence(arr):\n",
        "    result = 0\n",
        "    for num in arr:\n",
        "        result ^= num\n",
        "    return result\n",
        "\n",
        "arr3 = [1, 2, 3, 2, 3, 1, 3]\n",
        "result3 = find_odd_occurrence(arr3)\n",
        "print(result3)\n"
      ],
      "metadata": {
        "colab": {
          "base_uri": "https://localhost:8080/"
        },
        "id": "s_rQ8IGEeRVj",
        "outputId": "ab4d4f88-f0aa-4756-f9e6-d916595bd90e"
      },
      "execution_count": 3,
      "outputs": [
        {
          "output_type": "stream",
          "name": "stdout",
          "text": [
            "3\n"
          ]
        }
      ]
    },
    {
      "cell_type": "markdown",
      "source": [
        "Problem 4 : Given an array of n elements. Find two elements in the array such that their sum is equal to given\n",
        "element K."
      ],
      "metadata": {
        "id": "2rxULnX3eU_x"
      }
    },
    {
      "cell_type": "code",
      "source": [
        "def find_elements_with_sum(arr, K):\n",
        "    seen = set()\n",
        "    for num in arr:\n",
        "        complement = K - num\n",
        "        if complement in seen:\n",
        "            return num, complement\n",
        "        seen.add(num)\n",
        "\n",
        "arr4 = [1, 3, 5, 8, 2]\n",
        "K4 = 10\n",
        "result4 = find_elements_with_sum(arr4, K4)\n",
        "print(result4)\n"
      ],
      "metadata": {
        "colab": {
          "base_uri": "https://localhost:8080/"
        },
        "id": "EQdv0YWWeZHU",
        "outputId": "197176cd-e001-4567-c3ba-234706095bd0"
      },
      "execution_count": 4,
      "outputs": [
        {
          "output_type": "stream",
          "name": "stdout",
          "text": [
            "(2, 8)\n"
          ]
        }
      ]
    },
    {
      "cell_type": "markdown",
      "source": [
        "Problem 5 : Given an array of both positive and negative numbers, find two numbers such that their sum is\n",
        "closest to 0. Ex: [ 1 ,60 ,-10, 70, -80,85]."
      ],
      "metadata": {
        "id": "FUxI7pz1ebcj"
      }
    },
    {
      "cell_type": "code",
      "source": [
        "def closest_sum_to_zero(arr):\n",
        "    arr.sort()\n",
        "    min_sum = float('inf')\n",
        "    pair = None\n",
        "\n",
        "    left, right = 0, len(arr) - 1\n",
        "\n",
        "    while left < right:\n",
        "        current_sum = arr[left] + arr[right]\n",
        "        if abs(current_sum) < min_sum:\n",
        "            min_sum = abs(current_sum)\n",
        "            pair = (arr[left], arr[right])\n",
        "\n",
        "        if current_sum < 0:\n",
        "            left += 1\n",
        "        else:\n",
        "            right -= 1\n",
        "\n",
        "    return pair\n",
        "\n",
        "arr5 = [1, 60, -10, 70, -80, 85]\n",
        "result5 = closest_sum_to_zero(arr5)\n",
        "print(result5)\n"
      ],
      "metadata": {
        "colab": {
          "base_uri": "https://localhost:8080/"
        },
        "id": "_FvQ_V46egtV",
        "outputId": "737732e6-6ded-4dde-d82e-fddb680b9fcf"
      },
      "execution_count": 5,
      "outputs": [
        {
          "output_type": "stream",
          "name": "stdout",
          "text": [
            "(-80, 85)\n"
          ]
        }
      ]
    },
    {
      "cell_type": "markdown",
      "source": [
        "Problem 6 : Given an array of n elements . Find three elements such that their sum is equal to the given\n",
        "number."
      ],
      "metadata": {
        "id": "PAKhi7NPerL8"
      }
    },
    {
      "cell_type": "code",
      "source": [
        "def find_three_elements_with_sum(arr, target_sum):\n",
        "    arr.sort()\n",
        "\n",
        "    for i in range(len(arr) - 2):\n",
        "        left, right = i + 1, len(arr) - 1\n",
        "\n",
        "        while left < right:\n",
        "            current_sum = arr[i] + arr[left] + arr[right]\n",
        "\n",
        "            if current_sum == target_sum:\n",
        "                return arr[i], arr[left], arr[right]\n",
        "            elif current_sum < target_sum:\n",
        "                left += 1\n",
        "            else:\n",
        "                right -= 1\n",
        "\n",
        "    return None\n",
        "\n",
        "arr6 = [1, 4, 2, 8, 5, 7]\n",
        "target_sum6 = 10\n",
        "result6 = find_three_elements_with_sum(arr6, target_sum6)\n",
        "print(result6)\n"
      ],
      "metadata": {
        "colab": {
          "base_uri": "https://localhost:8080/"
        },
        "id": "IFInqbDPeua2",
        "outputId": "7e3edc64-bd4f-4815-e28d-5243257498c8"
      },
      "execution_count": 6,
      "outputs": [
        {
          "output_type": "stream",
          "name": "stdout",
          "text": [
            "(1, 2, 7)\n"
          ]
        }
      ]
    },
    {
      "cell_type": "markdown",
      "source": [
        "Problem 7 : Given an array of n elements . Find three elements i, j, k in the array such that\n",
        "i * i + j * j = k*k."
      ],
      "metadata": {
        "id": "VPRyc1SuexQV"
      }
    },
    {
      "cell_type": "code",
      "source": [
        "def find_pythagorean_triplet(arr):\n",
        "    arr.sort()\n",
        "\n",
        "    for k in range(len(arr) - 1, 1, -1):\n",
        "        left, right = 0, k - 1\n",
        "\n",
        "        while left < right:\n",
        "            a = arr[left] ** 2\n",
        "            b = arr[right] ** 2\n",
        "            c = arr[k] ** 2\n",
        "\n",
        "            if a + b == c:\n",
        "                return arr[left], arr[right], arr[k]\n",
        "            elif a + b < c:\n",
        "                left += 1\n",
        "            else:\n",
        "                right -= 1\n",
        "\n",
        "    return None\n",
        "\n",
        "arr7 = [3, 1, 4, 6, 5]\n",
        "result7 = find_pythagorean_triplet(arr7)\n",
        "print(result7)\n"
      ],
      "metadata": {
        "colab": {
          "base_uri": "https://localhost:8080/"
        },
        "id": "DxzcnJBye1Hm",
        "outputId": "6429c1ef-4b1d-4d9e-f5f6-9e713033d76e"
      },
      "execution_count": 7,
      "outputs": [
        {
          "output_type": "stream",
          "name": "stdout",
          "text": [
            "(3, 4, 5)\n"
          ]
        }
      ]
    },
    {
      "cell_type": "markdown",
      "source": [
        "Problem 8 : An element is a majority if it appears more than n/2 times. Give an algorithm takes an array of n\n",
        "element as argument and identifies a majority (if it exists)."
      ],
      "metadata": {
        "id": "hs-OksV8e3-R"
      }
    },
    {
      "cell_type": "code",
      "source": [
        "def find_majority_element(arr):\n",
        "    candidate, count = None, 0\n",
        "\n",
        "    for num in arr:\n",
        "        if count == 0:\n",
        "            candidate = num\n",
        "        count += 1 if candidate == num else -1\n",
        "\n",
        "    # Verify if the candidate is a majority element\n",
        "    if arr.count(candidate) > len(arr) // 2:\n",
        "        return candidate\n",
        "    else:\n",
        "        return None\n",
        "\n",
        "\n",
        "arr8 = [2, 2, 3, 5, 2, 2, 6]\n",
        "result8 = find_majority_element(arr8)\n",
        "print(result8)\n"
      ],
      "metadata": {
        "colab": {
          "base_uri": "https://localhost:8080/"
        },
        "id": "U7AWaWoge61-",
        "outputId": "6642ab9a-1cfd-40f6-e68b-3f242852ea22"
      },
      "execution_count": 9,
      "outputs": [
        {
          "output_type": "stream",
          "name": "stdout",
          "text": [
            "2\n"
          ]
        }
      ]
    },
    {
      "cell_type": "markdown",
      "source": [
        "Problem 9 : Given n × n matrix, and in each row all 1’s are followed by 0’s. Find the row with the maximum\n",
        "number of 0’s."
      ],
      "metadata": {
        "id": "4h1NQS8BfDOB"
      }
    },
    {
      "cell_type": "code",
      "source": [
        "def find_row_with_max_zeros(matrix):\n",
        "    max_zeros_row, max_zeros_count = -1, 0\n",
        "\n",
        "    for i, row in enumerate(matrix):\n",
        "        zeros_count = row.count(0)\n",
        "        if zeros_count > max_zeros_count:\n",
        "            max_zeros_count = zeros_count\n",
        "            max_zeros_row = i\n",
        "\n",
        "    return max_zeros_row\n",
        "\n",
        "\n",
        "matrix9 = [\n",
        "    [1, 0, 1, 0, 0],\n",
        "    [0, 0, 0, 1, 0],\n",
        "    [1, 1, 1, 1, 0],\n",
        "    [0, 0, 1, 0, 0],\n",
        "    [0, 1, 0, 0, 0]\n",
        "]\n",
        "result9 = find_row_with_max_zeros(matrix9)\n",
        "print(result9)\n"
      ],
      "metadata": {
        "colab": {
          "base_uri": "https://localhost:8080/"
        },
        "id": "hRi4bovZfGVW",
        "outputId": "9e1c71ba-077c-4331-bdd2-7f36e7d6d436"
      },
      "execution_count": 10,
      "outputs": [
        {
          "output_type": "stream",
          "name": "stdout",
          "text": [
            "1\n"
          ]
        }
      ]
    },
    {
      "cell_type": "markdown",
      "source": [
        "Problem 10 : Sort an array of 0’s, 1’s and 2’s [or R’s, G’s and B’s]: Given an array A[] consisting of 0’s, 1’s and\n",
        "2’s, give an algorithm for sorting A[].The algorithm should put all 0’s first, then all 1’s and finally all 2’s at the\n",
        "end. Example Input = {0,1,1,0,1,2,1,2,0,0,0,1}, Output = {0,0,0,0,0,1,1,1,1,1,2,2}"
      ],
      "metadata": {
        "id": "tMSjP9AYfJO-"
      }
    },
    {
      "cell_type": "code",
      "source": [
        "def sort_colors(arr):\n",
        "    low, mid, high = 0, 0, len(arr) - 1\n",
        "\n",
        "    while mid <= high:\n",
        "        if arr[mid] == 0:\n",
        "            arr[low], arr[mid] = arr[mid], arr[low]\n",
        "            low += 1\n",
        "            mid += 1\n",
        "        elif arr[mid] == 1:\n",
        "            mid += 1\n",
        "        else:\n",
        "            arr[mid], arr[high] = arr[high], arr[mid]\n",
        "            high -= 1\n",
        "\n",
        "# Example usage:\n",
        "arr10 = [0, 1, 1, 0, 1, 2, 1, 2, 0, 0, 0, 1]\n",
        "sort_colors(arr10)\n",
        "print(arr10)\n",
        "\n"
      ],
      "metadata": {
        "colab": {
          "base_uri": "https://localhost:8080/"
        },
        "id": "wgY55ufIfM8e",
        "outputId": "cf09fc18-3e59-4e20-fabf-50413813deaf"
      },
      "execution_count": 11,
      "outputs": [
        {
          "output_type": "stream",
          "name": "stdout",
          "text": [
            "[0, 0, 0, 0, 0, 1, 1, 1, 1, 1, 2, 2]\n"
          ]
        }
      ]
    },
    {
      "cell_type": "code",
      "source": [],
      "metadata": {
        "id": "DRD0JFsrfWm7"
      },
      "execution_count": null,
      "outputs": []
    }
  ]
}