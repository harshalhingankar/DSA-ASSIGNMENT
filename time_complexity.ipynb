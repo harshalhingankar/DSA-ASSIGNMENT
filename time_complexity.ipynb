{
  "nbformat": 4,
  "nbformat_minor": 0,
  "metadata": {
    "colab": {
      "provenance": [],
      "authorship_tag": "ABX9TyMCprzK/tVsvKNEQosxkMpb",
      "include_colab_link": true
    },
    "kernelspec": {
      "name": "python3",
      "display_name": "Python 3"
    },
    "language_info": {
      "name": "python"
    }
  },
  "cells": [
    {
      "cell_type": "markdown",
      "metadata": {
        "id": "view-in-github",
        "colab_type": "text"
      },
      "source": [
        "<a href=\"https://colab.research.google.com/github/harshalhingankar/DSA-ASSIGNMENT/blob/main/time_complexity.ipynb\" target=\"_parent\"><img src=\"https://colab.research.google.com/assets/colab-badge.svg\" alt=\"Open In Colab\"/></a>"
      ]
    },
    {
      "cell_type": "code",
      "execution_count": null,
      "metadata": {
        "id": "irGQQ48DxWuE"
      },
      "outputs": [],
      "source": [
        "def quicksort(arr):\n",
        "if len(arr) <= 1:\n",
        "return arr\n",
        "pivot = arr[len(arr) // 2]\n",
        "left = [x for x in arr if x < pivot]\n",
        "middle = [x for x in arr if x == pivot]\n",
        "right = [x for x in arr if x > pivot]\n",
        "return quicksort(left) + middle + quicksort(right)\n",
        "\n",
        "So, the time complexity of the provided QuickSort implementation is O(n log n) on average and in the best case, and O(n^2) in the worst case.\n"
      ]
    },
    {
      "cell_type": "code",
      "source": [
        "def nested_loop_example(matrix):\n",
        "rows, cols = len(matrix), len(matrix[0])\n",
        "total = 0\n",
        "for i in range(rows):\n",
        "for j in range(cols):\n",
        "total += matrix[i][j]\n",
        "return total\n",
        "\n",
        "So, the time complexity of the provided nested loop example is O(rows * cols), where rows and cols are the dimensions of the input matrix.\n",
        "\n"
      ],
      "metadata": {
        "id": "_Yzulw69xgw6"
      },
      "execution_count": null,
      "outputs": []
    },
    {
      "cell_type": "code",
      "source": [
        "def example_function(arr):\n",
        "result = 0\n",
        "for element in arr:\n",
        "result += element\n",
        "return result\n",
        "\n",
        "So, the time complexity of the provided function is O(n), where n is the number of elements in the input array."
      ],
      "metadata": {
        "id": "5_Xj4fXbxp43"
      },
      "execution_count": null,
      "outputs": []
    },
    {
      "cell_type": "code",
      "source": [
        "def longest_increasing_subsequence(nums):\n",
        "n = len(nums)\n",
        "lis = [1] * n\n",
        "for i in range(1, n):\n",
        "for j in range(0, i):\n",
        "if nums[i] > nums[j] and lis[i] < lis[j] + 1:\n",
        "lis[i] = lis[j] + 1\n",
        "return max(lis)\n",
        "\n",
        "So, the time complexity of the provided function is O(n^2), and the space complexity is O(n), where n is the number of elements in the input array."
      ],
      "metadata": {
        "id": "xJdIna-7xyH_"
      },
      "execution_count": null,
      "outputs": []
    },
    {
      "cell_type": "code",
      "source": [
        "def mysterious_function(arr):\n",
        "n = len(arr)\n",
        "result = 0\n",
        "for i in range(n):\n",
        "for j in range(i, n):\n",
        "result += arr[i] * arr[j]\n",
        "return result\n",
        "\n",
        "So, the time complexity of the provided function is O(n^2), where n is the number of elements in the input array, and the space complexity is O(1)"
      ],
      "metadata": {
        "id": "qcsUbvGuxySI"
      },
      "execution_count": null,
      "outputs": []
    },
    {
      "cell_type": "markdown",
      "source": [
        "## Solve the following problems on recursion"
      ],
      "metadata": {
        "id": "w2ch-8xeyQc-"
      }
    },
    {
      "cell_type": "code",
      "source": [
        "## Problem 6 : Sum of Digits\n",
        "def sum_of_digits(n):\n",
        "\n",
        "    if n < 10:\n",
        "        return n\n",
        "\n",
        "    last_digit = n % 10\n",
        "    remaining_digits = n // 10\n",
        "    return last_digit + sum_of_digits(remaining_digits)\n",
        "\n",
        "\n",
        "print(sum_of_digits(123))\n"
      ],
      "metadata": {
        "colab": {
          "base_uri": "https://localhost:8080/"
        },
        "id": "2rLRnOhbx8Nu",
        "outputId": "34e038b6-782c-48e8-a4a0-a5e76d860e89"
      },
      "execution_count": 1,
      "outputs": [
        {
          "output_type": "stream",
          "name": "stdout",
          "text": [
            "6\n"
          ]
        }
      ]
    },
    {
      "cell_type": "code",
      "source": [
        "## Fibonacci Series\n",
        "\n",
        "def fibonacci_series(n):\n",
        "\n",
        "    if n == 0:\n",
        "        return []\n",
        "    elif n == 1:\n",
        "        return [0]\n",
        "    elif n == 2:\n",
        "        return [0, 1]\n",
        "\n",
        "    fib_list = fibonacci_series(n - 1)\n",
        "\n",
        "    next_fib = fib_list[-1] + fib_list[-2]\n",
        "\n",
        "    fib_list.append(next_fib)\n",
        "    return fib_list\n",
        "\n",
        "\n",
        "print(fibonacci_series(6))\n"
      ],
      "metadata": {
        "colab": {
          "base_uri": "https://localhost:8080/"
        },
        "id": "btTU8s-Dye5F",
        "outputId": "42921f28-51a3-436a-d5bf-201d597c661b"
      },
      "execution_count": 1,
      "outputs": [
        {
          "output_type": "stream",
          "name": "stdout",
          "text": [
            "[0, 1, 1, 2, 3, 5]\n"
          ]
        }
      ]
    },
    {
      "cell_type": "code",
      "source": [
        "## Subset Sum\n",
        "\n",
        "def subset_sum(arr, target):\n",
        "\n",
        "    if target == 0:\n",
        "        return True\n",
        "    if not arr:\n",
        "        return False\n",
        "\n",
        "\n",
        "    last_element = arr[-1]\n",
        "    if last_element > target:\n",
        "        return subset_sum(arr[:-1], target)\n",
        "    else:\n",
        "        return subset_sum(arr[:-1], target) or subset_sum(arr[:-1], target - last_element)\n",
        "\n",
        "\n",
        "print(subset_sum([3, 34, 4, 12, 5, 2], 9))\n"
      ],
      "metadata": {
        "colab": {
          "base_uri": "https://localhost:8080/"
        },
        "id": "-3KaJZ6_WWwu",
        "outputId": "69667071-8cc7-4d55-c0d4-c0a95f9a699f"
      },
      "execution_count": 2,
      "outputs": [
        {
          "output_type": "stream",
          "name": "stdout",
          "text": [
            "True\n"
          ]
        }
      ]
    },
    {
      "cell_type": "code",
      "source": [
        "## Word Break\n",
        "\n",
        "def word_break(s, wordDict):\n",
        "    # Base case\n",
        "    if not s:\n",
        "        return True\n",
        "\n",
        "    # Recursive case\n",
        "    for i in range(1, len(s) + 1):\n",
        "        prefix = s[:i]\n",
        "        if prefix in wordDict and word_break(s[i:], wordDict):\n",
        "            return True\n",
        "\n",
        "    return False\n",
        "\n",
        "# Test the function\n",
        "print(word_break(\"github\", {\"git\", \"hub\"}))  # Output: True\n"
      ],
      "metadata": {
        "colab": {
          "base_uri": "https://localhost:8080/"
        },
        "id": "jqt_gs-1Wjsp",
        "outputId": "8cd29b98-7c7f-4ff3-f52f-76322bab36ff"
      },
      "execution_count": 3,
      "outputs": [
        {
          "output_type": "stream",
          "name": "stdout",
          "text": [
            "True\n"
          ]
        }
      ]
    },
    {
      "cell_type": "code",
      "source": [
        "## N-Queens\n",
        "\n",
        "def is_safe(board, row, col, N):\n",
        "\n",
        "    for i in range(row):\n",
        "        if board[i][col] == 'Q':\n",
        "            return False\n",
        "\n",
        "    for i, j in zip(range(row-1, -1, -1), range(col-1, -1, -1)):\n",
        "        if board[i][j] == 'Q':\n",
        "            return False\n",
        "\n",
        "    for i, j in zip(range(row-1, -1, -1), range(col+1, N)):\n",
        "        if board[i][j] == 'Q':\n",
        "            return False\n",
        "\n",
        "    return True\n",
        "\n",
        "def solve_n_queens(board, row, N, result):\n",
        "    if row == N:\n",
        "        result.append([''.join(row) for row in board])\n",
        "        return\n",
        "\n",
        "    for col in range(N):\n",
        "        if is_safe(board, row, col, N):\n",
        "            board[row][col] = 'Q'\n",
        "            solve_n_queens(board, row + 1, N, result)\n",
        "            board[row][col] = '.'\n",
        "\n",
        "def n_queens(N):\n",
        "    result = []\n",
        "    board = [['.' for _ in range(N)] for _ in range(N)]\n",
        "    solve_n_queens(board, 0, N, result)\n",
        "    return result\n",
        "\n",
        "\n",
        "print(n_queens(4))\n"
      ],
      "metadata": {
        "colab": {
          "base_uri": "https://localhost:8080/"
        },
        "id": "wqW8JaKEW0NV",
        "outputId": "7a9b8ac0-de71-409e-a526-8ed6e8003d58"
      },
      "execution_count": 4,
      "outputs": [
        {
          "output_type": "stream",
          "name": "stdout",
          "text": [
            "[['.Q..', '...Q', 'Q...', '..Q.'], ['..Q.', 'Q...', '...Q', '.Q..']]\n"
          ]
        }
      ]
    },
    {
      "cell_type": "code",
      "source": [],
      "metadata": {
        "id": "WxsWlctcXZ8y"
      },
      "execution_count": null,
      "outputs": []
    }
  ]
}