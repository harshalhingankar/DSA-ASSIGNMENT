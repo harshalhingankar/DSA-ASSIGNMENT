{
  "nbformat": 4,
  "nbformat_minor": 0,
  "metadata": {
    "colab": {
      "provenance": [],
      "authorship_tag": "ABX9TyNpyFkmvb5U7iGppfFcteWt",
      "include_colab_link": true
    },
    "kernelspec": {
      "name": "python3",
      "display_name": "Python 3"
    },
    "language_info": {
      "name": "python"
    }
  },
  "cells": [
    {
      "cell_type": "markdown",
      "metadata": {
        "id": "view-in-github",
        "colab_type": "text"
      },
      "source": [
        "<a href=\"https://colab.research.google.com/github/harshalhingankar/DSA-ASSIGNMENT/blob/main/Assignment_DSA.ipynb\" target=\"_parent\"><img src=\"https://colab.research.google.com/assets/colab-badge.svg\" alt=\"Open In Colab\"/></a>"
      ]
    },
    {
      "cell_type": "markdown",
      "source": [
        "Problem 1: Reverse a singly linked list."
      ],
      "metadata": {
        "id": "q338NOJOf65L"
      }
    },
    {
      "cell_type": "code",
      "source": [
        "class ListNode:\n",
        "    def __init__(self, val=0, next=None):\n",
        "        self.val = val\n",
        "        self.next = next\n",
        "\n",
        "def reverse_linked_list(head):\n",
        "    prev = None\n",
        "    current = head\n",
        "\n",
        "    while current:\n",
        "        next_node = current.next\n",
        "        current.next = prev\n",
        "        prev = current\n",
        "        current = next_node\n",
        "\n",
        "    return prev\n",
        "\n",
        "head = ListNode(1, ListNode(2, ListNode(3, ListNode(4, ListNode(5)))))\n",
        "reversed_head = reverse_linked_list(head)\n",
        "\n",
        "\n",
        "current = reversed_head\n",
        "while current:\n",
        "    print(current.val, end=\" -> \")\n",
        "    current = current.next\n",
        "\n"
      ],
      "metadata": {
        "colab": {
          "base_uri": "https://localhost:8080/"
        },
        "id": "Q85syGgBgNwW",
        "outputId": "5a82ef1c-36ee-4b4a-e0b0-c1e6453377b3"
      },
      "execution_count": 2,
      "outputs": [
        {
          "output_type": "stream",
          "name": "stdout",
          "text": [
            "5 -> 4 -> 3 -> 2 -> 1 -> "
          ]
        }
      ]
    },
    {
      "cell_type": "markdown",
      "source": [
        " Merge two sorted linked lists into one sorted linked list.\n"
      ],
      "metadata": {
        "id": "gXO2yvMVhOJN"
      }
    },
    {
      "cell_type": "code",
      "source": [
        "class ListNode:\n",
        "    def __init__(self, val=0, next=None):\n",
        "        self.val = val\n",
        "        self.next = next\n",
        "\n",
        "def merge_two_sorted_lists(l1, l2):\n",
        "    dummy = ListNode()\n",
        "    current = dummy\n",
        "\n",
        "    while l1 and l2:\n",
        "        if l1.val < l2.val:\n",
        "            current.next = l1\n",
        "            l1 = l1.next\n",
        "        else:\n",
        "            current.next = l2\n",
        "            l2 = l2.next\n",
        "        current = current.next\n",
        "\n",
        "    current.next = l1 or l2\n",
        "\n",
        "    return dummy.next\n",
        "\n",
        "list1 = ListNode(1, ListNode(3, ListNode(5)))\n",
        "list2 = ListNode(2, ListNode(4, ListNode(6)))\n",
        "\n",
        "merged_list = merge_two_sorted_lists(list1, list2)\n",
        "\n",
        "\n",
        "current = merged_list\n",
        "while current:\n",
        "    print(current.val, end=\" -> \")\n",
        "    current = current.next\n"
      ],
      "metadata": {
        "colab": {
          "base_uri": "https://localhost:8080/"
        },
        "id": "i3Egt_L7gQoQ",
        "outputId": "187bbcd9-a8c1-4a8a-c6cb-7d8af110eb2e"
      },
      "execution_count": 3,
      "outputs": [
        {
          "output_type": "stream",
          "name": "stdout",
          "text": [
            "1 -> 2 -> 3 -> 4 -> 5 -> 6 -> "
          ]
        }
      ]
    },
    {
      "cell_type": "markdown",
      "source": [
        "Remove the nth node from the end of a linked list."
      ],
      "metadata": {
        "id": "Ad7Qt3aJhCx4"
      }
    },
    {
      "cell_type": "code",
      "source": [
        "class ListNode:\n",
        "    def __init__(self, val=0, next=None):\n",
        "        self.val = val\n",
        "        self.next = next\n",
        "\n",
        "def remove_nth_from_end(head, n):\n",
        "    dummy = ListNode(0)\n",
        "    dummy.next = head\n",
        "    slow = fast = dummy\n",
        "\n",
        "\n",
        "    for _ in range(n + 1):\n",
        "        fast = fast.next\n",
        "\n",
        "\n",
        "    while fast:\n",
        "        slow = slow.next\n",
        "        fast = fast.next\n",
        "\n",
        "\n",
        "    slow.next = slow.next.next\n",
        "\n",
        "    return dummy.next\n",
        "\n",
        "# Example usage:\n",
        "# Creating a linked list: 1 -> 2 -> 3 -> 4 -> 5\n",
        "head = ListNode(1, ListNode(2, ListNode(3, ListNode(4, ListNode(5)))))\n",
        "n = 2\n",
        "result = remove_nth_from_end(head, n)\n",
        "\n",
        "# Printing the modified linked list\n",
        "current = result\n",
        "while current:\n",
        "    print(current.val, end=\" -> \")\n",
        "    current = current.next\n"
      ],
      "metadata": {
        "colab": {
          "base_uri": "https://localhost:8080/"
        },
        "id": "HIf4lDvghVQx",
        "outputId": "3ce4658b-d46a-4143-8ffe-209131b558e9"
      },
      "execution_count": 4,
      "outputs": [
        {
          "output_type": "stream",
          "name": "stdout",
          "text": [
            "1 -> 2 -> 3 -> 5 -> "
          ]
        }
      ]
    },
    {
      "cell_type": "markdown",
      "source": [
        " Find the intersection point of two linked lists."
      ],
      "metadata": {
        "id": "t_Vj8wz5haF4"
      }
    },
    {
      "cell_type": "code",
      "source": [
        "class ListNode:\n",
        "    def __init__(self, val=0, next=None):\n",
        "        self.val = val\n",
        "        self.next = next\n",
        "\n",
        "def get_intersection_node(headA, headB):\n",
        "    if not headA or not headB:\n",
        "        return None\n",
        "\n",
        "    a, b = headA, headB\n",
        "\n",
        "    while a != b:\n",
        "        a = headB if not a else a.next\n",
        "        b = headA if not b else b.next\n",
        "\n",
        "    return a\n",
        "\n",
        "# Example usage:\n",
        "# Creating two linked lists: List 1: 1 -> 2 -> 3 -> 4, List 2: 9 -> 8 -> 3 -> 4\n",
        "list1 = ListNode(1, ListNode(2, ListNode(3, ListNode(4))))\n",
        "list2 = ListNode(9, ListNode(8, list1.next.next))\n",
        "\n",
        "intersection_node = get_intersection_node(list1, list2)\n",
        "\n",
        "if intersection_node:\n",
        "    print(\"Output: Node with value\", intersection_node.val)\n",
        "else:\n",
        "    print(\"Output: No intersection point\")\n"
      ],
      "metadata": {
        "colab": {
          "base_uri": "https://localhost:8080/"
        },
        "id": "ywRthTj1hdo5",
        "outputId": "7597ac96-044d-4f0c-a753-602d29298333"
      },
      "execution_count": 5,
      "outputs": [
        {
          "output_type": "stream",
          "name": "stdout",
          "text": [
            "Output: Node with value 3\n"
          ]
        }
      ]
    },
    {
      "cell_type": "markdown",
      "source": [
        ": Remove duplicates from a sorted linked list."
      ],
      "metadata": {
        "id": "20pJZyuihrcH"
      }
    },
    {
      "cell_type": "code",
      "source": [
        "class ListNode:\n",
        "    def __init__(self, val=0, next=None):\n",
        "        self.val = val\n",
        "        self.next = next\n",
        "\n",
        "def delete_duplicates(head):\n",
        "    current = head\n",
        "\n",
        "    while current and current.next:\n",
        "        if current.val == current.next.val:\n",
        "            current.next = current.next.next\n",
        "        else:\n",
        "            current = current.next\n",
        "\n",
        "    return head\n",
        "\n",
        "# Creating a sorted linked list: 1 -> 1 -> 2 -> 3 -> 3\n",
        "head = ListNode(1, ListNode(1, ListNode(2, ListNode(3, ListNode(3)))))\n",
        "result = delete_duplicates(head)\n",
        "\n",
        "current = result\n",
        "while current:\n",
        "    print(current.val, end=\" -> \")\n",
        "    current = current.next\n"
      ],
      "metadata": {
        "colab": {
          "base_uri": "https://localhost:8080/"
        },
        "id": "psZcpA5Thv3e",
        "outputId": "819363fd-8958-4e6c-dfd9-5e16ec92185c"
      },
      "execution_count": 6,
      "outputs": [
        {
          "output_type": "stream",
          "name": "stdout",
          "text": [
            "1 -> 2 -> 3 -> "
          ]
        }
      ]
    },
    {
      "cell_type": "markdown",
      "source": [
        " Add two numbers represented by linked lists (where each node contains a single digit)."
      ],
      "metadata": {
        "id": "ttGgXIeBh_Vk"
      }
    },
    {
      "cell_type": "code",
      "source": [
        "class ListNode:\n",
        "    def __init__(self, val=0, next=None):\n",
        "        self.val = val\n",
        "        self.next = next\n",
        "\n",
        "def add_two_numbers(l1, l2):\n",
        "    dummy = ListNode()\n",
        "    current = dummy\n",
        "    carry = 0\n",
        "\n",
        "    while l1 or l2 or carry:\n",
        "        x = l1.val if l1 else 0\n",
        "        y = l2.val if l2 else 0\n",
        "        total_sum = x + y + carry\n",
        "\n",
        "        carry, digit = divmod(total_sum, 10)\n",
        "\n",
        "        current.next = ListNode(digit)\n",
        "        current = current.next\n",
        "\n",
        "        if l1:\n",
        "            l1 = l1.next\n",
        "        if l2:\n",
        "            l2 = l2.next\n",
        "\n",
        "    return dummy.next\n",
        "\n",
        "\n",
        "list1 = ListNode(2, ListNode(4, ListNode(3)))\n",
        "list2 = ListNode(5, ListNode(6, ListNode(4)))\n",
        "\n",
        "result = add_two_numbers(list1, list2)\n",
        "\n",
        "current = result\n",
        "while current:\n",
        "    print(current.val, end=\" -> \")\n",
        "    current = current.next\n"
      ],
      "metadata": {
        "colab": {
          "base_uri": "https://localhost:8080/"
        },
        "id": "LjHnYXC3iEhG",
        "outputId": "ed5d6b7c-d8a2-4c38-8252-496a8e504a91"
      },
      "execution_count": 7,
      "outputs": [
        {
          "output_type": "stream",
          "name": "stdout",
          "text": [
            "7 -> 0 -> 8 -> "
          ]
        }
      ]
    },
    {
      "cell_type": "markdown",
      "source": [
        " Swap nodes in pairs in a linked list"
      ],
      "metadata": {
        "id": "WXQJCx50iN9b"
      }
    },
    {
      "cell_type": "code",
      "source": [
        "class ListNode:\n",
        "    def __init__(self, val=0, next=None):\n",
        "        self.val = val\n",
        "        self.next = next\n",
        "\n",
        "def swap_pairs(head):\n",
        "    dummy = ListNode(0)\n",
        "    dummy.next = head\n",
        "    current = dummy\n",
        "\n",
        "    while current.next and current.next.next:\n",
        "        first_node = current.next\n",
        "        second_node = current.next.next\n",
        "\n",
        "        first_node.next = second_node.next\n",
        "        second_node.next = first_node\n",
        "        current.next = second_node\n",
        "\n",
        "        current = first_node\n",
        "\n",
        "    return dummy.next\n",
        "\n",
        "\n",
        "head = ListNode(1, ListNode(2, ListNode(3, ListNode(4))))\n",
        "\n",
        "result = swap_pairs(head)\n",
        "\n",
        "current = result\n",
        "while current:\n",
        "    print(current.val, end=\" -> \")\n",
        "    current = current.next\n"
      ],
      "metadata": {
        "colab": {
          "base_uri": "https://localhost:8080/"
        },
        "id": "yQ6svBDeiXEz",
        "outputId": "7eaf126a-1e14-4596-8090-56a4f17d7112"
      },
      "execution_count": 8,
      "outputs": [
        {
          "output_type": "stream",
          "name": "stdout",
          "text": [
            "2 -> 1 -> 4 -> 3 -> "
          ]
        }
      ]
    },
    {
      "cell_type": "markdown",
      "source": [
        " Reverse nodes in a linked list in groups of k."
      ],
      "metadata": {
        "id": "HIfHayMmifqf"
      }
    },
    {
      "cell_type": "code",
      "source": [
        "class ListNode:\n",
        "    def __init__(self, val=0, next=None):\n",
        "        self.val = val\n",
        "        self.next = next\n",
        "\n",
        "def reverse_k_group(head, k):\n",
        "    def reverse_sublist(start, end):\n",
        "        prev, current = None, start\n",
        "\n",
        "        while current != end:\n",
        "            next_node = current.next\n",
        "            current.next = prev\n",
        "            prev = current\n",
        "            current = next_node\n",
        "\n",
        "        return prev\n",
        "\n",
        "    dummy = ListNode(0)\n",
        "    dummy.next = head\n",
        "    prev_group_end = dummy\n",
        "\n",
        "    while True:\n",
        "        group_start = prev_group_end.next\n",
        "        group_end = group_start\n",
        "\n",
        "        # Move group_end to the kth node\n",
        "        for _ in range(k):\n",
        "            if not group_end:\n",
        "                return dummy.next  # The end of the list is reached\n",
        "\n",
        "            group_end = group_end.next\n",
        "\n",
        "        # Reverse the current group\n",
        "        prev_group_end.next = reverse_sublist(group_start, group_end)\n",
        "        group_start.next = group_end\n",
        "\n",
        "        prev_group_end = group_start\n",
        "\n",
        "    return dummy.next\n",
        "\n",
        "\n",
        "head = ListNode(1, ListNode(2, ListNode(3, ListNode(4, ListNode(5)))))\n",
        "k = 3\n",
        "\n",
        "result = reverse_k_group(head, k)\n",
        "\n",
        "\n",
        "current = result\n",
        "while current:\n",
        "    print(current.val, end=\" -> \")\n",
        "    current = current.next\n"
      ],
      "metadata": {
        "colab": {
          "base_uri": "https://localhost:8080/"
        },
        "id": "cg-ERGizinAR",
        "outputId": "b9c6abbc-c867-4cab-8d7b-cbc126117d03"
      },
      "execution_count": 9,
      "outputs": [
        {
          "output_type": "stream",
          "name": "stdout",
          "text": [
            "3 -> 2 -> 1 -> 4 -> 5 -> "
          ]
        }
      ]
    },
    {
      "cell_type": "markdown",
      "source": [
        " Determine if a linked list is a palindrome."
      ],
      "metadata": {
        "id": "hshUVQSAjSJE"
      }
    },
    {
      "cell_type": "code",
      "source": [
        "class ListNode:\n",
        "    def __init__(self, val=0, next=None):\n",
        "        self.val = val\n",
        "        self.next = next\n",
        "\n",
        "def is_palindrome(head):\n",
        "    def reverse_linked_list(node):\n",
        "        prev, current = None, node\n",
        "\n",
        "        while current:\n",
        "            next_node = current.next\n",
        "            current.next = prev\n",
        "            prev = current\n",
        "            current = next_node\n",
        "\n",
        "        return prev\n",
        "\n",
        "\n",
        "    slow = fast = head\n",
        "    while fast and fast.next:\n",
        "        slow = slow.next\n",
        "        fast = fast.next.next\n",
        "\n",
        "\n",
        "    reversed_second_half = reverse_linked_list(slow)\n",
        "\n",
        "\n",
        "    while reversed_second_half:\n",
        "        if head.val != reversed_second_half.val:\n",
        "            return False\n",
        "        head = head.next\n",
        "        reversed_second_half = reversed_second_half.next\n",
        "\n",
        "    return True\n",
        "\n",
        "\n",
        "head = ListNode(1, ListNode(2, ListNode(2, ListNode(1))))\n",
        "\n",
        "result = is_palindrome(head)\n",
        "print(result)"
      ],
      "metadata": {
        "colab": {
          "base_uri": "https://localhost:8080/"
        },
        "id": "AY6TwTMvjm-g",
        "outputId": "73d2cec8-149e-4989-b672-2de9b6f8ce89"
      },
      "execution_count": 10,
      "outputs": [
        {
          "output_type": "stream",
          "name": "stdout",
          "text": [
            "True\n"
          ]
        }
      ]
    },
    {
      "cell_type": "markdown",
      "source": [
        "Rotate a linked list to the right by k places"
      ],
      "metadata": {
        "id": "NWiPR7VukCEG"
      }
    },
    {
      "cell_type": "code",
      "source": [
        "class ListNode:\n",
        "    def __init__(self, val=0, next=None):\n",
        "        self.val = val\n",
        "        self.next = next\n",
        "\n",
        "def rotate_right(head, k):\n",
        "    if not head or k == 0:\n",
        "        return head\n",
        "\n",
        "    # Calculate the length of the linked list\n",
        "    length = 1\n",
        "    current = head\n",
        "    while current.next:\n",
        "        length += 1\n",
        "        current = current.next\n",
        "\n",
        "    # Calculate the effective rotation amount\n",
        "    k = k % length\n",
        "\n",
        "    # If k is 0, no rotation is needed\n",
        "    if k == 0:\n",
        "        return head\n",
        "\n",
        "    # Find the new tail and head after rotation\n",
        "    new_tail = head\n",
        "    for _ in range(length - k - 1):\n",
        "        new_tail = new_tail.next\n",
        "\n",
        "    new_head = new_tail.next\n",
        "    new_tail.next = None\n",
        "\n",
        "\n",
        "    current.next = head\n",
        "\n",
        "    return new_head\n",
        "\n",
        "5\n",
        "head = ListNode(1, ListNode(2, ListNode(3, ListNode(4, ListNode(5)))))\n",
        "k = 2\n",
        "\n",
        "result = rotate_right(head, k)\n",
        "\n",
        "\n",
        "current = result\n",
        "while current:\n",
        "    print(current.val, end=\" -> \")\n",
        "    current = current.next\n"
      ],
      "metadata": {
        "colab": {
          "base_uri": "https://localhost:8080/"
        },
        "id": "guSi3vFzkHe6",
        "outputId": "bde4b5e4-90b0-4c55-c93b-c0c1a818702c"
      },
      "execution_count": 11,
      "outputs": [
        {
          "output_type": "stream",
          "name": "stdout",
          "text": [
            "4 -> 5 -> 1 -> 2 -> 3 -> "
          ]
        }
      ]
    },
    {
      "cell_type": "markdown",
      "source": [
        " Flatten a multilevel doubly linked list."
      ],
      "metadata": {
        "id": "pGPkmCAIkVbJ"
      }
    },
    {
      "cell_type": "code",
      "source": [
        "class Node:\n",
        "    def __init__(self, val, prev=None, next=None, child=None):\n",
        "        self.val = val\n",
        "        self.prev = prev\n",
        "        self.next = next\n",
        "        self.child = child\n",
        "\n",
        "def flatten_linked_list(head):\n",
        "    def dfs(current):\n",
        "        if not current:\n",
        "            return None\n",
        "\n",
        "        while current:\n",
        "            if current.child:\n",
        "                next_node = current.next\n",
        "                current.next = current.child\n",
        "                current.child.prev = current\n",
        "                current.child = None\n",
        "\n",
        "                tail = dfs(current.next)\n",
        "                if next_node:\n",
        "                    tail.next = next_node\n",
        "                    next_node.prev = tail\n",
        "\n",
        "            if not current.next:\n",
        "                break\n",
        "\n",
        "            current = current.next\n",
        "\n",
        "        return current\n",
        "\n",
        "    dummy = Node(0)\n",
        "    dummy.next = head\n",
        "\n",
        "    dfs(dummy.next)\n",
        "\n",
        "    return dummy.next\n",
        "\n",
        "# Example usage:\n",
        "# Creating a multilevel doubly linked list\n",
        "# 1 <-> 2 <-> 3 <-> 7 <-> 8 <-> 11 -> 12\n",
        "#       |            |\n",
        "#       4 -> 5 -> 9 -> 10\n",
        "#       |\n",
        "#       6 -> 13\n",
        "head = Node(1)\n",
        "head.next = Node(2)\n",
        "head.next.prev = head\n",
        "head.next.next = Node(3)\n",
        "head.next.next.prev = head.next\n",
        "head.next.next.next = Node(7)\n",
        "head.next.next.next.prev = head.next.next\n",
        "head.next.next.next.next = Node(8)\n",
        "head.next.next.next.next.prev = head.next.next.next\n",
        "head.next.next.next.next.next = Node(11)\n",
        "head.next.next.next.next.next.prev = head.next.next.next.next\n",
        "head.next.next.next.next.next.next = Node(12)\n",
        "head.next.next.next.next.next.next.prev = head.next.next.next.next.next\n",
        "head.next.next.child = Node(4)\n",
        "head.next.next.child.next = Node(5)\n",
        "head.next.next.child.next.prev = head.next.next.child\n",
        "head.next.next.child.next.next = Node(9)\n",
        "head.next.next.child.next.next.prev = head.next.next.child.next\n",
        "head.next.next.child.next.next.next = Node(10)\n",
        "head.next.next.child.next.next.next.prev = head.next.next.child.next.next\n",
        "head.next.next.next.next.child = Node(6)\n",
        "head.next.next.next.next.child.next = Node(13)\n",
        "head.next.next.next.next.child.next.prev = head.next.next.next.next.child\n",
        "\n",
        "result = flatten_linked_list(head)\n",
        "\n",
        "\n",
        "current = result\n",
        "while current:\n",
        "    print(current.val, end=\" <-> \")\n",
        "    current = current.next\n"
      ],
      "metadata": {
        "colab": {
          "base_uri": "https://localhost:8080/"
        },
        "id": "8fQG3pE-kj9E",
        "outputId": "6395d43d-d950-4dbf-aa4d-532bc42cf20f"
      },
      "execution_count": 12,
      "outputs": [
        {
          "output_type": "stream",
          "name": "stdout",
          "text": [
            "1 <-> 2 <-> 3 <-> 4 <-> 5 <-> 9 <-> 10 <-> 7 <-> 8 <-> 6 <-> 13 <-> 11 <-> 12 <-> "
          ]
        }
      ]
    },
    {
      "cell_type": "markdown",
      "source": [
        "Rearrange a linked list such that all even positioned nodes are placed at the end."
      ],
      "metadata": {
        "id": "zsZIM48Vk14l"
      }
    },
    {
      "cell_type": "code",
      "source": [
        "class ListNode:\n",
        "    def __init__(self, val=0, next=None):\n",
        "        self.val = val\n",
        "        self.next = next\n",
        "\n",
        "def rearrange_linked_list(head):\n",
        "    if not head or not head.next or not head.next.next:\n",
        "        return head\n",
        "\n",
        "\n",
        "    odd, even = head, head.next\n",
        "    even_head = even\n",
        "\n",
        "    while even and even.next:\n",
        "        odd.next = even.next\n",
        "        odd = odd.next\n",
        "        even.next = odd.next\n",
        "        even = even.next\n",
        "\n",
        "\n",
        "    prev, current = None, even_head\n",
        "\n",
        "    while current:\n",
        "        next_node = current.next\n",
        "        current.next = prev\n",
        "        prev = current\n",
        "        current = next_node\n",
        "\n",
        "    even_head = prev\n",
        "\n",
        "\n",
        "    odd.next = even_head\n",
        "\n",
        "    return head\n",
        "\n",
        "\n",
        "head = ListNode(1, ListNode(2, ListNode(3, ListNode(4, ListNode(5)))))\n",
        "\n",
        "result = rearrange_linked_list(head)\n",
        "\n",
        "\n",
        "current = result\n",
        "while current:\n",
        "    print(current.val, end=\" -> \")\n",
        "    current = current.next\n"
      ],
      "metadata": {
        "colab": {
          "base_uri": "https://localhost:8080/"
        },
        "id": "4PSoLNrwk61S",
        "outputId": "e81dcf35-6528-4fb1-bbe8-195685e0b66b"
      },
      "execution_count": 13,
      "outputs": [
        {
          "output_type": "stream",
          "name": "stdout",
          "text": [
            "1 -> 3 -> 5 -> 4 -> 2 -> "
          ]
        }
      ]
    },
    {
      "cell_type": "markdown",
      "source": [
        " Given a non-negative number represented as a linked list, add one to it.ṁṁ"
      ],
      "metadata": {
        "id": "pkrAUKJGlF5e"
      }
    },
    {
      "cell_type": "code",
      "source": [
        "class ListNode:\n",
        "    def __init__(self, val=0, next=None):\n",
        "        self.val = val\n",
        "        self.next = next\n",
        "\n",
        "def add_one_to_linked_list(head):\n",
        "    # Reverse the linked list\n",
        "    def reverse_linked_list(node):\n",
        "        prev, current = None, node\n",
        "\n",
        "        while current:\n",
        "            next_node = current.next\n",
        "            current.next = prev\n",
        "            prev = current\n",
        "            current = next_node\n",
        "\n",
        "        return prev\n",
        "\n",
        "    # Reverse the linked list and add one\n",
        "    reversed_head = reverse_linked_list(head)\n",
        "    current = reversed_head\n",
        "    carry = 1\n",
        "\n",
        "    while current and carry:\n",
        "        total_sum = current.val + carry\n",
        "        carry, current.val = divmod(total_sum, 10)\n",
        "        current = current.next\n",
        "\n",
        "\n",
        "    if carry:\n",
        "        reversed_head.next = ListNode(carry)\n",
        "\n",
        "\n",
        "    result = reverse_linked_list(reversed_head)\n",
        "\n",
        "    return result\n",
        "\n",
        "head = ListNode(1, ListNode(2, ListNode(3)))\n",
        "\n",
        "result = add_one_to_linked_list(head)\n",
        "\n",
        "\n",
        "current = result\n",
        "while current:\n",
        "    print(current.val, end=\" -> \")\n",
        "    current = current.next\n"
      ],
      "metadata": {
        "colab": {
          "base_uri": "https://localhost:8080/"
        },
        "id": "VoPvzYmPlMPa",
        "outputId": "fa357ab9-3f16-4f6e-f108-ddd38d9ad735"
      },
      "execution_count": 14,
      "outputs": [
        {
          "output_type": "stream",
          "name": "stdout",
          "text": [
            "1 -> 2 -> 4 -> "
          ]
        }
      ]
    },
    {
      "cell_type": "markdown",
      "source": [
        " Given a sorted array and a target value, return the index if the target is found. If not, return the index where it would be inserted"
      ],
      "metadata": {
        "id": "u_wzDeJKlcVx"
      }
    },
    {
      "cell_type": "code",
      "source": [
        "def search_insert(nums, target):\n",
        "    left, right = 0, len(nums) - 1\n",
        "\n",
        "    while left <= right:\n",
        "        mid = (left + right) // 2\n",
        "\n",
        "        if nums[mid] == target:\n",
        "            return mid\n",
        "        elif nums[mid] < target:\n",
        "            left = mid + 1\n",
        "        else:\n",
        "            right = mid - 1\n",
        "\n",
        "    return left\n",
        "\n",
        "\n",
        "nums = [1, 3, 5, 6]\n",
        "target = 5\n",
        "\n",
        "result = search_insert(nums, target)\n",
        "\n",
        "print(\"Output:\", result)\n"
      ],
      "metadata": {
        "colab": {
          "base_uri": "https://localhost:8080/"
        },
        "id": "Wa_RdqtAlo1w",
        "outputId": "60b0463a-f320-4d0d-8850-95ffcc2e08c6"
      },
      "execution_count": 15,
      "outputs": [
        {
          "output_type": "stream",
          "name": "stdout",
          "text": [
            "Output: 2\n"
          ]
        }
      ]
    },
    {
      "cell_type": "markdown",
      "source": [
        " Find the minimum element in a rotated sorted array."
      ],
      "metadata": {
        "id": "BHPET9JAl15H"
      }
    },
    {
      "cell_type": "code",
      "source": [
        "def find_min(nums):\n",
        "    left, right = 0, len(nums) - 1\n",
        "\n",
        "    while left < right:\n",
        "        mid = (left + right) // 2\n",
        "\n",
        "        if nums[mid] > nums[right]:\n",
        "            left = mid + 1\n",
        "        else:\n",
        "            right = mid\n",
        "\n",
        "    return nums[left]\n",
        "\n",
        "# Example usage:\n",
        "# Given a rotated sorted array: [4, 5, 6, 7, 0, 1, 2]\n",
        "nums = [4, 5, 6, 7, 0, 1, 2]\n",
        "\n",
        "result = find_min(nums)\n",
        "\n",
        "print(\"Output:\", result)\n"
      ],
      "metadata": {
        "colab": {
          "base_uri": "https://localhost:8080/"
        },
        "id": "XZ3Goy6NmC24",
        "outputId": "e7153544-66b3-45cf-cc97-4be6a7198126"
      },
      "execution_count": 16,
      "outputs": [
        {
          "output_type": "stream",
          "name": "stdout",
          "text": [
            "Output: 0\n"
          ]
        }
      ]
    },
    {
      "cell_type": "markdown",
      "source": [
        " Search for a target value in a rotated sorted array."
      ],
      "metadata": {
        "id": "IuajbpIImM52"
      }
    },
    {
      "cell_type": "code",
      "source": [
        "def search_rotated_array(nums, target):\n",
        "    left, right = 0, len(nums) - 1\n",
        "\n",
        "    while left <= right:\n",
        "        mid = (left + right) // 2\n",
        "\n",
        "        if nums[mid] == target:\n",
        "            return mid\n",
        "\n",
        "        # Check if the left half is sorted\n",
        "        if nums[left] <= nums[mid]:\n",
        "            if nums[left] <= target < nums[mid]:\n",
        "                right = mid - 1\n",
        "            else:\n",
        "                left = mid + 1\n",
        "        # Otherwise, the right half is sorted\n",
        "        else:\n",
        "            if nums[mid] < target <= nums[right]:\n",
        "                left = mid + 1\n",
        "            else:\n",
        "                right = mid - 1\n",
        "\n",
        "    return -1  # Target not found\n",
        "\n",
        "# Example usage:\n",
        "# Given a rotated sorted array: [4, 5, 6, 7, 0, 1, 2] and target value: 0\n",
        "nums = [4, 5, 6, 7, 0, 1, 2]\n",
        "target = 0\n",
        "\n",
        "result = search_rotated_array(nums, target)\n",
        "\n",
        "print(\"Output:\", result)\n",
        "\n"
      ],
      "metadata": {
        "colab": {
          "base_uri": "https://localhost:8080/"
        },
        "id": "NnnLZHwmmRfR",
        "outputId": "7e399895-76a0-4e1e-8e6d-506fe6e82d56"
      },
      "execution_count": 17,
      "outputs": [
        {
          "output_type": "stream",
          "name": "stdout",
          "text": [
            "Output: 4\n"
          ]
        }
      ]
    },
    {
      "cell_type": "markdown",
      "source": [
        " Find the peak element in an array. A peak element is greater than its neighbors."
      ],
      "metadata": {
        "id": "SkOD-N4zma3C"
      }
    },
    {
      "cell_type": "code",
      "source": [
        "def find_peak_element(nums):\n",
        "    left, right = 0, len(nums) - 1\n",
        "\n",
        "    while left < right:\n",
        "        mid = (left + right) // 2\n",
        "\n",
        "        # Check if mid is a peak\n",
        "        if nums[mid] > nums[mid + 1]:\n",
        "            right = mid\n",
        "        else:\n",
        "            left = mid + 1\n",
        "\n",
        "    return left\n",
        "\n",
        "# Example usage:\n",
        "# Given an array: [1, 2, 3, 1]\n",
        "nums = [1, 2, 3, 1]\n",
        "\n",
        "result = find_peak_element(nums)\n",
        "\n",
        "print(\"Output:\", result)\n",
        "\n"
      ],
      "metadata": {
        "colab": {
          "base_uri": "https://localhost:8080/"
        },
        "id": "DpcG-5BqmfAA",
        "outputId": "9949251c-724c-4b8d-baed-dc0fec32fede"
      },
      "execution_count": 18,
      "outputs": [
        {
          "output_type": "stream",
          "name": "stdout",
          "text": [
            "Output: 2\n"
          ]
        }
      ]
    },
    {
      "cell_type": "markdown",
      "source": [
        " Given a m x n matrix where each row and column is sorted in ascending order, count the number\n",
        "of negative numbers."
      ],
      "metadata": {
        "id": "9jikTJw3mn47"
      }
    },
    {
      "cell_type": "code",
      "source": [
        "def count_negatives(matrix):\n",
        "    rows, cols = len(matrix), len(matrix[0])\n",
        "    count = 0\n",
        "    row, col = 0, cols - 1\n",
        "\n",
        "    while row < rows and col >= 0:\n",
        "        if matrix[row][col] < 0:\n",
        "            count += (rows - row)  # Increment the count by the remaining elements in the column\n",
        "            col -= 1\n",
        "        else:\n",
        "            row += 1\n",
        "\n",
        "    return count\n",
        "\n",
        "# Example usage:\n",
        "# Given a matrix:\n",
        "# [[4, 3, 2, -1],\n",
        "#  [3, 2, 1, -1],\n",
        "#  [1, 1, -1, -2],\n",
        "#  [-1, -1, -2, -3]]\n",
        "grid = [\n",
        "    [4, 3, 2, -1],\n",
        "    [3, 2, 1, -1],\n",
        "    [1, 1, -1, -2],\n",
        "    [-1, -1, -2, -3]\n",
        "]\n",
        "\n",
        "result = count_negatives(grid)\n",
        "\n",
        "print(\"Output:\", result)\n",
        "\n"
      ],
      "metadata": {
        "colab": {
          "base_uri": "https://localhost:8080/"
        },
        "id": "6LlFGshZms3e",
        "outputId": "e73884fa-6bd0-4e83-f0b6-e12a149b0e55"
      },
      "execution_count": 19,
      "outputs": [
        {
          "output_type": "stream",
          "name": "stdout",
          "text": [
            "Output: 8\n"
          ]
        }
      ]
    },
    {
      "cell_type": "markdown",
      "source": [
        " Given a 2D matrix sorted in ascending order in each row, and the first integer of each row is\n",
        "greater than the last integer of the previous row, determine if a target value is present in the matrix."
      ],
      "metadata": {
        "id": "cAg5KY53nBYw"
      }
    },
    {
      "cell_type": "code",
      "source": [
        "def search_matrix(matrix, target):\n",
        "    if not matrix or not matrix[0]:\n",
        "        return False\n",
        "\n",
        "    rows, cols = len(matrix), len(matrix[0])\n",
        "    left, right = 0, rows * cols - 1\n",
        "\n",
        "    while left <= right:\n",
        "        mid = (left + right) // 2\n",
        "        mid_element = matrix[mid // cols][mid % cols]\n",
        "\n",
        "        if mid_element == target:\n",
        "            return True\n",
        "        elif mid_element < target:\n",
        "            left = mid + 1\n",
        "        else:\n",
        "            right = mid - 1\n",
        "\n",
        "    return False\n",
        "\n",
        "# Example usage:\n",
        "# Given a matrix:\n",
        "# [[1, 3, 5, 7],\n",
        "#  [10, 11, 16, 20],\n",
        "#  [23, 30, 34, 60]]\n",
        "matrix = [\n",
        "    [1, 3, 5, 7],\n",
        "    [10, 11, 16, 20],\n",
        "    [23, 30, 34, 60]\n",
        "]\n",
        "target = 3\n",
        "\n",
        "result = search_matrix(matrix, target)\n",
        "\n",
        "print(\"Output:\", result)\n",
        "\n"
      ],
      "metadata": {
        "colab": {
          "base_uri": "https://localhost:8080/"
        },
        "id": "Mio1pShgnRhM",
        "outputId": "914ef3e1-9925-4dc0-a89b-4e389b9f5c1c"
      },
      "execution_count": 20,
      "outputs": [
        {
          "output_type": "stream",
          "name": "stdout",
          "text": [
            "Output: True\n"
          ]
        }
      ]
    },
    {
      "cell_type": "markdown",
      "source": [
        " Find Median in Two Sorted Arrays\n",
        "\n",
        "Problem: Given two sorted arrays, find the median of the combined sorted array."
      ],
      "metadata": {
        "id": "WxJYIiAxnenR"
      }
    },
    {
      "cell_type": "code",
      "source": [
        "def findMedianSortedArrays(nums1, nums2):\n",
        "    merged_array = sorted(nums1 + nums2)\n",
        "    n = len(merged_array)\n",
        "\n",
        "    if n % 2 == 0:\n",
        "        mid1 = merged_array[n // 2 - 1]\n",
        "        mid2 = merged_array[n // 2]\n",
        "        return (mid1 + mid2) / 2.0\n",
        "    else:\n",
        "        return float(merged_array[n // 2])\n",
        "\n",
        "# Example usage:\n",
        "nums1 = [1, 3]\n",
        "nums2 = [2]\n",
        "\n",
        "result = findMedianSortedArrays(nums1, nums2)\n",
        "\n",
        "print(\"Output:\", result)\n"
      ],
      "metadata": {
        "colab": {
          "base_uri": "https://localhost:8080/"
        },
        "id": "LaO3OKdxnzfe",
        "outputId": "f0fbf298-ff0a-403f-c440-2058cfacce75"
      },
      "execution_count": 21,
      "outputs": [
        {
          "output_type": "stream",
          "name": "stdout",
          "text": [
            "Output: 2.0\n"
          ]
        }
      ]
    },
    {
      "cell_type": "markdown",
      "source": [
        "Given a sorted character array and a target letter, find the smallest letter in the array that is greater than the target."
      ],
      "metadata": {
        "id": "iNMzzOmsoOFa"
      }
    },
    {
      "cell_type": "code",
      "source": [
        " def nextGreatestLetter(letters, target):\n",
        "    left, right = 0, len(letters)\n",
        "\n",
        "    while left < right:\n",
        "        mid = (left + right) // 2\n",
        "\n",
        "        if letters[mid] <= target:\n",
        "            left = mid + 1\n",
        "        else:\n",
        "            right = mid\n",
        "\n",
        "    return letters[left] if left < len(letters) else letters[0]\n",
        "\n",
        "# Example usage:\n",
        "letters = ['c', 'f', 'j']\n",
        "target = 'a'\n",
        "\n",
        "result = nextGreatestLetter(letters, target)\n",
        "\n",
        "print(\"Output:\", result)\n",
        "\n"
      ],
      "metadata": {
        "colab": {
          "base_uri": "https://localhost:8080/"
        },
        "id": "IfvSI0CeobqG",
        "outputId": "9d096d38-8c9b-4bda-da94-b3a125b0a646"
      },
      "execution_count": 22,
      "outputs": [
        {
          "output_type": "stream",
          "name": "stdout",
          "text": [
            "Output: c\n"
          ]
        }
      ]
    },
    {
      "cell_type": "markdown",
      "source": [
        " Given an array with n objects colored red, white, or blue, sort them in-place so that objects of\n",
        "the same color are adjacent, with the colors in the order red, white, and blue"
      ],
      "metadata": {
        "id": "C4lWuSCcraVm"
      }
    },
    {
      "cell_type": "code",
      "source": [
        "def sortColors(nums):\n",
        "    low, mid, high = 0, 0, len(nums) - 1\n",
        "\n",
        "    while mid <= high:\n",
        "        if nums[mid] == 0:\n",
        "            nums[low], nums[mid] = nums[mid], nums[low]\n",
        "            low += 1\n",
        "            mid += 1\n",
        "        elif nums[mid] == 1:\n",
        "            mid += 1\n",
        "        else:\n",
        "            nums[mid], nums[high] = nums[high], nums[mid]\n",
        "            high -= 1\n",
        "\n",
        "# Example usage:\n",
        "nums = [2, 0, 2, 1, 1, 0]\n",
        "\n",
        "sortColors(nums)\n",
        "\n",
        "print(\"Output:\", nums)\n"
      ],
      "metadata": {
        "colab": {
          "base_uri": "https://localhost:8080/"
        },
        "id": "MaluV8Utreos",
        "outputId": "a9eb653f-cc1b-4e23-f056-df89dacc2c4e"
      },
      "execution_count": 23,
      "outputs": [
        {
          "output_type": "stream",
          "name": "stdout",
          "text": [
            "Output: [0, 0, 1, 1, 2, 2]\n"
          ]
        }
      ]
    },
    {
      "cell_type": "markdown",
      "source": [
        " Find the kth largest element in an unsorted array."
      ],
      "metadata": {
        "id": "LD1jWEP8rtde"
      }
    },
    {
      "cell_type": "code",
      "source": [
        "def findKthLargest(nums, k):\n",
        "    def partition(left, right):\n",
        "        pivot_index = (left + right) // 2\n",
        "        pivot = nums[pivot_index]\n",
        "        nums[pivot_index], nums[right] = nums[right], nums[pivot_index]\n",
        "\n",
        "        i = left\n",
        "        for j in range(left, right):\n",
        "            if nums[j] > pivot:\n",
        "                nums[i], nums[j] = nums[j], nums[i]\n",
        "                i += 1\n",
        "\n",
        "        nums[i], nums[right] = nums[right], nums[i]\n",
        "        return i\n",
        "\n",
        "    def quick_select(left, right, k):\n",
        "        if left == right:\n",
        "            return nums[left]\n",
        "\n",
        "        pivot_index = partition(left, right)\n",
        "\n",
        "        if k == pivot_index:\n",
        "            return nums[k]\n",
        "        elif k < pivot_index:\n",
        "            return quick_select(left, pivot_index - 1, k)\n",
        "        else:\n",
        "            return quick_select(pivot_index + 1, right, k)\n",
        "\n",
        "    return quick_select(0, len(nums) - 1, k - 1)\n",
        "\n",
        "# Example usage:\n",
        "nums = [3, 2, 1, 5, 6, 4]\n",
        "k = 2\n",
        "\n",
        "result = findKthLargest(nums, k)\n",
        "\n",
        "print(\"Output:\", result)\n"
      ],
      "metadata": {
        "colab": {
          "base_uri": "https://localhost:8080/"
        },
        "id": "8Q2F-_cxr2a9",
        "outputId": "f04ecea5-32d0-4db0-e577-16bd2f7e79af"
      },
      "execution_count": 24,
      "outputs": [
        {
          "output_type": "stream",
          "name": "stdout",
          "text": [
            "Output: 5\n"
          ]
        }
      ]
    },
    {
      "cell_type": "markdown",
      "source": [
        " Given an unsorted array, reorder it in-place such that nums[0] <= nums[1] >= nums[2] <=\n",
        "nums[3]..."
      ],
      "metadata": {
        "id": "sgzgE51yr_Hg"
      }
    },
    {
      "cell_type": "code",
      "source": [
        "def wiggleSort(nums):\n",
        "    nums.sort()\n",
        "\n",
        "    for i in range(1, len(nums) - 1, 2):\n",
        "        nums[i], nums[i + 1] = nums[i + 1], nums[i]\n",
        "\n",
        "# Example usage:\n",
        "nums = [3, 5, 2, 1, 6, 4]\n",
        "\n",
        "wiggleSort(nums)\n",
        "\n",
        "print(\"Output:\", nums)\n"
      ],
      "metadata": {
        "colab": {
          "base_uri": "https://localhost:8080/"
        },
        "id": "mMj0MqDlsEn5",
        "outputId": "d00ba11b-f525-436c-edba-98479744163a"
      },
      "execution_count": 25,
      "outputs": [
        {
          "output_type": "stream",
          "name": "stdout",
          "text": [
            "Output: [1, 3, 2, 5, 4, 6]\n"
          ]
        }
      ]
    },
    {
      "cell_type": "markdown",
      "source": [
        "Given an array of integers, calculate the sum of all its elements."
      ],
      "metadata": {
        "id": "e1kPxCq-sMhS"
      }
    },
    {
      "cell_type": "code",
      "source": [
        "# Example usage:\n",
        "nums = [1, 2, 3, 4, 5]\n",
        "\n",
        "result = sum(nums)\n",
        "\n",
        "print(\"Output:\", result)\n",
        "\n"
      ],
      "metadata": {
        "colab": {
          "base_uri": "https://localhost:8080/"
        },
        "id": "JwMxjQ2hsQhu",
        "outputId": "61dd49b9-f4a5-4f99-a2bb-8de3f0d5fdcc"
      },
      "execution_count": 26,
      "outputs": [
        {
          "output_type": "stream",
          "name": "stdout",
          "text": [
            "Output: 15\n"
          ]
        }
      ]
    },
    {
      "cell_type": "markdown",
      "source": [
        " Find the maximum element in an array of integers."
      ],
      "metadata": {
        "id": "AVeos3gBsXU1"
      }
    },
    {
      "cell_type": "code",
      "source": [
        "# Example usage:\n",
        "nums = [3, 7, 2, 9, 4, 1]\n",
        "\n",
        "result = max(nums)\n",
        "\n",
        "print(\"Output:\", result)\n",
        "\n"
      ],
      "metadata": {
        "colab": {
          "base_uri": "https://localhost:8080/"
        },
        "id": "srRUW5t6sca6",
        "outputId": "e3f30462-4b38-4da3-f8d3-8d65d54ecfcf"
      },
      "execution_count": 27,
      "outputs": [
        {
          "output_type": "stream",
          "name": "stdout",
          "text": [
            "Output: 9\n"
          ]
        }
      ]
    },
    {
      "cell_type": "markdown",
      "source": [
        "Implement linear search to find the index of a target element in an array."
      ],
      "metadata": {
        "id": "PxoyLpzNskKi"
      }
    },
    {
      "cell_type": "code",
      "source": [
        "def linear_search(arr, target):\n",
        "    for i in range(len(arr)):\n",
        "        if arr[i] == target:\n",
        "            return i\n",
        "    return -1  # Target not found\n",
        "\n",
        "# Example usage:\n",
        "nums = [5, 3, 8, 2, 7, 4]\n",
        "target = 8\n",
        "\n",
        "result = linear_search(nums, target)\n",
        "\n",
        "print(\"Output:\", result)\n"
      ],
      "metadata": {
        "colab": {
          "base_uri": "https://localhost:8080/"
        },
        "id": "PG68eh3ispR0",
        "outputId": "24ba58b0-35e6-4ace-e661-4b82a183ec2f"
      },
      "execution_count": 28,
      "outputs": [
        {
          "output_type": "stream",
          "name": "stdout",
          "text": [
            "Output: 2\n"
          ]
        }
      ]
    },
    {
      "cell_type": "markdown",
      "source": [
        "Calculate the factorial of a given number."
      ],
      "metadata": {
        "id": "stF2EsjTsvRC"
      }
    },
    {
      "cell_type": "code",
      "source": [
        "def factorial(n):\n",
        "    if n == 0 or n == 1:\n",
        "        return 1\n",
        "    else:\n",
        "        return n * factorial(n - 1)\n",
        "\n",
        "# Example usage:\n",
        "number = 5\n",
        "\n",
        "result = factorial(number)\n",
        "\n",
        "print(\"Output:\", result)\n"
      ],
      "metadata": {
        "colab": {
          "base_uri": "https://localhost:8080/"
        },
        "id": "iPpvMK5QszDL",
        "outputId": "15b6c7c3-742b-4f0d-c984-09e3dfaa3366"
      },
      "execution_count": 30,
      "outputs": [
        {
          "output_type": "stream",
          "name": "stdout",
          "text": [
            "Output: 120\n"
          ]
        }
      ]
    },
    {
      "cell_type": "markdown",
      "source": [
        "Check if a given number is a prime number."
      ],
      "metadata": {
        "id": "nIToTmFis5pa"
      }
    },
    {
      "cell_type": "code",
      "source": [
        "def is_prime(number):\n",
        "    if number < 2:\n",
        "        return False\n",
        "    for i in range(2, int(number**0.5) + 1):\n",
        "        if number % i == 0:\n",
        "            return False\n",
        "    return True\n",
        "\n",
        "# Example usage:\n",
        "input_number = 7\n",
        "\n",
        "result = is_prime(input_number)\n",
        "\n",
        "print(\"Output:\", result)\n"
      ],
      "metadata": {
        "colab": {
          "base_uri": "https://localhost:8080/"
        },
        "id": "fCps6mTbs-HO",
        "outputId": "106f4db1-3600-42af-b3ee-848519c1bc29"
      },
      "execution_count": 31,
      "outputs": [
        {
          "output_type": "stream",
          "name": "stdout",
          "text": [
            "Output: True\n"
          ]
        }
      ]
    },
    {
      "cell_type": "markdown",
      "source": [
        "Generate the Fibonacci series up to a given number n"
      ],
      "metadata": {
        "id": "nJh3pghjtEmQ"
      }
    },
    {
      "cell_type": "code",
      "source": [
        "def generate_fibonacci(n):\n",
        "    fib_series = [0, 1]\n",
        "\n",
        "    while fib_series[-1] + fib_series[-2] <= n:\n",
        "        fib_series.append(fib_series[-1] + fib_series[-2])\n",
        "\n",
        "    return fib_series\n",
        "\n",
        "# Example usage:\n",
        "input_number = 8\n",
        "\n",
        "result = generate_fibonacci(input_number)\n",
        "\n",
        "print(\"Output:\", result)\n"
      ],
      "metadata": {
        "colab": {
          "base_uri": "https://localhost:8080/"
        },
        "id": "f10GuXPZtKG3",
        "outputId": "64fb0443-6620-47a8-fe86-6b45382dbeee"
      },
      "execution_count": 32,
      "outputs": [
        {
          "output_type": "stream",
          "name": "stdout",
          "text": [
            "Output: [0, 1, 1, 2, 3, 5, 8]\n"
          ]
        }
      ]
    },
    {
      "cell_type": "markdown",
      "source": [
        "Calculate the power of a number using recursion."
      ],
      "metadata": {
        "id": "c6UeuhAVtQft"
      }
    },
    {
      "cell_type": "code",
      "source": [
        "def power(base, exponent):\n",
        "    if exponent == 0:\n",
        "        return 1\n",
        "    else:\n",
        "        return base * power(base, exponent - 1)\n",
        "\n",
        "# Example usage:\n",
        "base_number = 3\n",
        "exponent_number = 4\n",
        "\n",
        "result = power(base_number, exponent_number)\n",
        "\n",
        "print(\"Output:\", result)\n"
      ],
      "metadata": {
        "colab": {
          "base_uri": "https://localhost:8080/"
        },
        "id": "Ip2bHCQ5tWQe",
        "outputId": "afb6d228-edb5-4208-d806-867b8991b375"
      },
      "execution_count": 33,
      "outputs": [
        {
          "output_type": "stream",
          "name": "stdout",
          "text": [
            "Output: 81\n"
          ]
        }
      ]
    },
    {
      "cell_type": "markdown",
      "source": [
        " Reverse a given string"
      ],
      "metadata": {
        "id": "fUCgWKfYtcFI"
      }
    },
    {
      "cell_type": "code",
      "source": [
        "def reverse_string(input_string):\n",
        "    return input_string[::-1]\n",
        "\n",
        "# Example usage:\n",
        "input_str = \"hello\"\n",
        "\n",
        "result = reverse_string(input_str)\n",
        "\n",
        "print(\"Output:\", result)\n"
      ],
      "metadata": {
        "colab": {
          "base_uri": "https://localhost:8080/"
        },
        "id": "wy2j_ypctg5K",
        "outputId": "f808a9bf-3fd4-45e5-94a6-48c488205f03"
      },
      "execution_count": 34,
      "outputs": [
        {
          "output_type": "stream",
          "name": "stdout",
          "text": [
            "Output: olleh\n"
          ]
        }
      ]
    },
    {
      "cell_type": "code",
      "source": [],
      "metadata": {
        "id": "22FgXBBVtnIr"
      },
      "execution_count": null,
      "outputs": []
    }
  ]
}