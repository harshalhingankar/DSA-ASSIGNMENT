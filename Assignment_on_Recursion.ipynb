{
  "nbformat": 4,
  "nbformat_minor": 0,
  "metadata": {
    "colab": {
      "provenance": [],
      "authorship_tag": "ABX9TyNIgzNsLpY4Qu5f4i4kMUEY",
      "include_colab_link": true
    },
    "kernelspec": {
      "name": "python3",
      "display_name": "Python 3"
    },
    "language_info": {
      "name": "python"
    }
  },
  "cells": [
    {
      "cell_type": "markdown",
      "metadata": {
        "id": "view-in-github",
        "colab_type": "text"
      },
      "source": [
        "<a href=\"https://colab.research.google.com/github/harshalhingankar/DSA-ASSIGNMENT/blob/main/Assignment_on_Recursion.ipynb\" target=\"_parent\"><img src=\"https://colab.research.google.com/assets/colab-badge.svg\" alt=\"Open In Colab\"/></a>"
      ]
    },
    {
      "cell_type": "markdown",
      "source": [
        "Print the max value of the array:"
      ],
      "metadata": {
        "id": "86hfjy5xbzr4"
      }
    },
    {
      "cell_type": "code",
      "source": [
        "arr_3 = [13, 1, -3, 22, 5]\n",
        "max_value = max(arr_3)\n",
        "print(max_value)\n",
        "\n"
      ],
      "metadata": {
        "colab": {
          "base_uri": "https://localhost:8080/"
        },
        "id": "DS-_I0YKcAk9",
        "outputId": "ea59cc6f-7e31-48b5-87d4-e411588d8a06"
      },
      "execution_count": 1,
      "outputs": [
        {
          "output_type": "stream",
          "name": "stdout",
          "text": [
            "22\n"
          ]
        }
      ]
    },
    {
      "cell_type": "markdown",
      "source": [
        "Find the sum of the values of the array:"
      ],
      "metadata": {
        "id": "VdTpjUtocBxf"
      }
    },
    {
      "cell_type": "code",
      "source": [
        "arr_4 = [92, 23, 15, -20, 10]\n",
        "sum_values = sum(arr_4)\n",
        "print(sum_values)\n",
        "\n"
      ],
      "metadata": {
        "colab": {
          "base_uri": "https://localhost:8080/"
        },
        "id": "ZmnEjTFicHzZ",
        "outputId": "983fdc3b-c254-4626-ef4e-291b1f1ae83c"
      },
      "execution_count": 2,
      "outputs": [
        {
          "output_type": "stream",
          "name": "stdout",
          "text": [
            "120\n"
          ]
        }
      ]
    },
    {
      "cell_type": "markdown",
      "source": [
        "Check if a number is an Armstrong number:"
      ],
      "metadata": {
        "id": "0GJAdYN1cJTm"
      }
    },
    {
      "cell_type": "code",
      "source": [
        "def is_armstrong_number(n):\n",
        "    num_str = str(n)\n",
        "    num_digits = len(num_str)\n",
        "    armstrong_sum = sum(int(digit) ** num_digits for digit in num_str)\n",
        "    return armstrong_sum == n\n",
        "\n",
        "# Example usage:\n",
        "input_1 = 153\n",
        "output_1 = is_armstrong_number(input_1)\n",
        "print(\"Yes\" if output_1 else \"No\")\n",
        "\n",
        "\n",
        "input_2 = 134\n",
        "output_2 = is_armstrong_number(input_2)\n",
        "print(\"Yes\" if output_2 else \"No\")\n",
        "\n"
      ],
      "metadata": {
        "colab": {
          "base_uri": "https://localhost:8080/"
        },
        "id": "e-bf8N20cLep",
        "outputId": "697fed96-f90a-4b89-a795-5b2294cc7ab8"
      },
      "execution_count": 3,
      "outputs": [
        {
          "output_type": "stream",
          "name": "stdout",
          "text": [
            "Yes\n",
            "No\n"
          ]
        }
      ]
    },
    {
      "cell_type": "markdown",
      "source": [
        "Q.2 Given two strings word1 and word2, return the minimum number of operations required to convert word1\n",
        "to word2."
      ],
      "metadata": {
        "id": "Fb4VMKnWcP5f"
      }
    },
    {
      "cell_type": "code",
      "source": [
        "def min_distance(word1, word2):\n",
        "    m, n = len(word1), len(word2)\n",
        "\n",
        "\n",
        "    dp = [[0] * (n + 1) for _ in range(m + 1)]\n",
        "\n",
        "\n",
        "    for i in range(m + 1):\n",
        "        dp[i][0] = i\n",
        "    for j in range(n + 1):\n",
        "        dp[0][j] = j\n",
        "\n",
        "\n",
        "    for i in range(1, m + 1):\n",
        "        for j in range(1, n + 1):\n",
        "            if word1[i - 1] == word2[j - 1]:\n",
        "                dp[i][j] = dp[i - 1][j - 1]\n",
        "            else:\n",
        "                dp[i][j] = 1 + min(dp[i - 1][j], dp[i][j - 1], dp[i - 1][j - 1])\n",
        "\n",
        "    return dp[m][n]\n",
        "\n",
        "\n",
        "word1_1, word2_1 = \"horse\", \"ros\"\n",
        "output_1 = min_distance(word1_1, word2_1)\n",
        "print(output_1)\n",
        "\n",
        "word1_2, word2_2 = \"intention\", \"execution\"\n",
        "output_2 = min_distance(word1_2, word2_2)\n",
        "print(output_2)\n"
      ],
      "metadata": {
        "colab": {
          "base_uri": "https://localhost:8080/"
        },
        "id": "ZISR7IeVcdSg",
        "outputId": "070fcba9-61fa-47c6-cd57-1607adb66617"
      },
      "execution_count": 4,
      "outputs": [
        {
          "output_type": "stream",
          "name": "stdout",
          "text": [
            "3\n",
            "5\n"
          ]
        }
      ]
    },
    {
      "cell_type": "code",
      "source": [],
      "metadata": {
        "id": "JRzXCSrwcjwl"
      },
      "execution_count": null,
      "outputs": []
    }
  ]
}